{
 "cells": [
  {
   "cell_type": "markdown",
   "id": "2cfbd6e2",
   "metadata": {},
   "source": [
    "# 3. Preprocessing & Modeling"
   ]
  },
  {
   "cell_type": "code",
   "execution_count": 1,
   "id": "875c7a3e",
   "metadata": {},
   "outputs": [],
   "source": [
    "# install XGBoost\n",
    "#!pip install xgboost"
   ]
  },
  {
   "cell_type": "code",
   "execution_count": 2,
   "id": "87963f04",
   "metadata": {
    "scrolled": true
   },
   "outputs": [],
   "source": [
    "# install Prophet\n",
    "#!pip install prophet"
   ]
  },
  {
   "cell_type": "code",
   "execution_count": 3,
   "id": "09ca8a6c",
   "metadata": {},
   "outputs": [],
   "source": [
    "# install plotly\n",
    "#!pip install plotly"
   ]
  },
  {
   "cell_type": "code",
   "execution_count": 4,
   "id": "ecedc690",
   "metadata": {},
   "outputs": [],
   "source": [
    "# imports\n",
    "import pandas as pd\n",
    "import numpy as np\n",
    "import matplotlib.pyplot as plt\n",
    "import seaborn as sns\n",
    "\n",
    "from sklearn.model_selection import train_test_split, cross_val_score\n",
    "from pmdarima.arima import ADFTest\n",
    "from sklearn.metrics import mean_absolute_error, mean_absolute_percentage_error\n",
    "from sklearn.linear_model import LinearRegression\n",
    "from xgboost import XGBRegressor\n",
    "from prophet import Prophet\n",
    "from prophet.diagnostics import cross_validation, performance_metrics\n",
    "from prophet.plot import plot_cross_validation_metric"
   ]
  },
  {
   "cell_type": "code",
   "execution_count": 5,
   "id": "ed5cadb9",
   "metadata": {},
   "outputs": [
    {
     "data": {
      "text/html": [
       "<div>\n",
       "<style scoped>\n",
       "    .dataframe tbody tr th:only-of-type {\n",
       "        vertical-align: middle;\n",
       "    }\n",
       "\n",
       "    .dataframe tbody tr th {\n",
       "        vertical-align: top;\n",
       "    }\n",
       "\n",
       "    .dataframe thead th {\n",
       "        text-align: right;\n",
       "    }\n",
       "</style>\n",
       "<table border=\"1\" class=\"dataframe\">\n",
       "  <thead>\n",
       "    <tr style=\"text-align: right;\">\n",
       "      <th></th>\n",
       "      <th>month</th>\n",
       "      <th>total_passengers</th>\n",
       "    </tr>\n",
       "  </thead>\n",
       "  <tbody>\n",
       "    <tr>\n",
       "      <th>0</th>\n",
       "      <td>1989-01-01</td>\n",
       "      <td>1107283</td>\n",
       "    </tr>\n",
       "    <tr>\n",
       "      <th>1</th>\n",
       "      <td>1989-02-01</td>\n",
       "      <td>1050398</td>\n",
       "    </tr>\n",
       "    <tr>\n",
       "      <th>2</th>\n",
       "      <td>1989-03-01</td>\n",
       "      <td>1160644</td>\n",
       "    </tr>\n",
       "    <tr>\n",
       "      <th>3</th>\n",
       "      <td>1989-04-01</td>\n",
       "      <td>1089718</td>\n",
       "    </tr>\n",
       "    <tr>\n",
       "      <th>4</th>\n",
       "      <td>1989-05-01</td>\n",
       "      <td>1100198</td>\n",
       "    </tr>\n",
       "    <tr>\n",
       "      <th>...</th>\n",
       "      <td>...</td>\n",
       "      <td>...</td>\n",
       "    </tr>\n",
       "    <tr>\n",
       "      <th>407</th>\n",
       "      <td>2022-12-01</td>\n",
       "      <td>4620193</td>\n",
       "    </tr>\n",
       "    <tr>\n",
       "      <th>408</th>\n",
       "      <td>2023-01-01</td>\n",
       "      <td>4366912</td>\n",
       "    </tr>\n",
       "    <tr>\n",
       "      <th>409</th>\n",
       "      <td>2023-02-01</td>\n",
       "      <td>4002734</td>\n",
       "    </tr>\n",
       "    <tr>\n",
       "      <th>410</th>\n",
       "      <td>2023-03-01</td>\n",
       "      <td>4633939</td>\n",
       "    </tr>\n",
       "    <tr>\n",
       "      <th>411</th>\n",
       "      <td>2023-04-01</td>\n",
       "      <td>4603335</td>\n",
       "    </tr>\n",
       "  </tbody>\n",
       "</table>\n",
       "<p>412 rows × 2 columns</p>\n",
       "</div>"
      ],
      "text/plain": [
       "          month  total_passengers\n",
       "0    1989-01-01           1107283\n",
       "1    1989-02-01           1050398\n",
       "2    1989-03-01           1160644\n",
       "3    1989-04-01           1089718\n",
       "4    1989-05-01           1100198\n",
       "..          ...               ...\n",
       "407  2022-12-01           4620193\n",
       "408  2023-01-01           4366912\n",
       "409  2023-02-01           4002734\n",
       "410  2023-03-01           4633939\n",
       "411  2023-04-01           4603335\n",
       "\n",
       "[412 rows x 2 columns]"
      ]
     },
     "execution_count": 5,
     "metadata": {},
     "output_type": "execute_result"
    }
   ],
   "source": [
    "# load data\n",
    "passenger_traffic = pd.read_csv('../datasets/passenger_traffic.csv')\n",
    "\n",
    "passenger_traffic"
   ]
  },
  {
   "cell_type": "code",
   "execution_count": 6,
   "id": "31efd097",
   "metadata": {},
   "outputs": [],
   "source": [
    "# set 'month' column as index\n",
    "passenger_traffic.set_index('month', inplace = True)"
   ]
  },
  {
   "cell_type": "code",
   "execution_count": 7,
   "id": "5e44efe7",
   "metadata": {
    "scrolled": true
   },
   "outputs": [],
   "source": [
    "# convert index to datetime\n",
    "passenger_traffic.index = pd.to_datetime(passenger_traffic.index)\n",
    "\n",
    "# remove day from date in index\n",
    "passenger_traffic.index = passenger_traffic.index.strftime('%Y-%m')"
   ]
  },
  {
   "cell_type": "markdown",
   "id": "20671cad",
   "metadata": {},
   "source": [
    "## 3.1 Preprocessing"
   ]
  },
  {
   "cell_type": "markdown",
   "id": "5b924897",
   "metadata": {},
   "source": [
    "### Stationarity"
   ]
  },
  {
   "cell_type": "code",
   "execution_count": 8,
   "id": "b16f5a75",
   "metadata": {},
   "outputs": [
    {
     "data": {
      "text/plain": [
       "(0.057960465218675886, True)"
      ]
     },
     "execution_count": 8,
     "metadata": {},
     "output_type": "execute_result"
    }
   ],
   "source": [
    "# instantiate Augmented Dickey-Fuller test\n",
    "adf_test = ADFTest(alpha = 0.05)\n",
    "\n",
    "# test if data is stationary\n",
    "adf_test.should_diff(passenger_traffic['total_passengers']) "
   ]
  },
  {
   "cell_type": "markdown",
   "id": "d4479b0d",
   "metadata": {},
   "source": [
    "Since p-value > 0.05, we are unable to reject the null hypothesis that the data is not stationary. This indicates that the statistical properties (such as mean and variance) changes over time and that there are underlying trends, seasonality or other patterns that change with time. Thus, to facilitate subsequent modeling and forecasting, new columns would be created in the dataframe to store the differenced data as additional features for the modeling."
   ]
  },
  {
   "cell_type": "code",
   "execution_count": 9,
   "id": "12c2b0b2",
   "metadata": {
    "scrolled": true
   },
   "outputs": [
    {
     "data": {
      "text/html": [
       "<div>\n",
       "<style scoped>\n",
       "    .dataframe tbody tr th:only-of-type {\n",
       "        vertical-align: middle;\n",
       "    }\n",
       "\n",
       "    .dataframe tbody tr th {\n",
       "        vertical-align: top;\n",
       "    }\n",
       "\n",
       "    .dataframe thead th {\n",
       "        text-align: right;\n",
       "    }\n",
       "</style>\n",
       "<table border=\"1\" class=\"dataframe\">\n",
       "  <thead>\n",
       "    <tr style=\"text-align: right;\">\n",
       "      <th></th>\n",
       "      <th>total_passengers</th>\n",
       "      <th>diff_1</th>\n",
       "      <th>diff_3</th>\n",
       "      <th>diff_6</th>\n",
       "    </tr>\n",
       "    <tr>\n",
       "      <th>month</th>\n",
       "      <th></th>\n",
       "      <th></th>\n",
       "      <th></th>\n",
       "      <th></th>\n",
       "    </tr>\n",
       "  </thead>\n",
       "  <tbody>\n",
       "    <tr>\n",
       "      <th>1989-01</th>\n",
       "      <td>1107283</td>\n",
       "      <td>NaN</td>\n",
       "      <td>NaN</td>\n",
       "      <td>NaN</td>\n",
       "    </tr>\n",
       "    <tr>\n",
       "      <th>1989-02</th>\n",
       "      <td>1050398</td>\n",
       "      <td>-56885.0</td>\n",
       "      <td>NaN</td>\n",
       "      <td>NaN</td>\n",
       "    </tr>\n",
       "    <tr>\n",
       "      <th>1989-03</th>\n",
       "      <td>1160644</td>\n",
       "      <td>110246.0</td>\n",
       "      <td>NaN</td>\n",
       "      <td>NaN</td>\n",
       "    </tr>\n",
       "    <tr>\n",
       "      <th>1989-04</th>\n",
       "      <td>1089718</td>\n",
       "      <td>-70926.0</td>\n",
       "      <td>-17565.0</td>\n",
       "      <td>NaN</td>\n",
       "    </tr>\n",
       "    <tr>\n",
       "      <th>1989-05</th>\n",
       "      <td>1100198</td>\n",
       "      <td>10480.0</td>\n",
       "      <td>49800.0</td>\n",
       "      <td>NaN</td>\n",
       "    </tr>\n",
       "    <tr>\n",
       "      <th>1989-06</th>\n",
       "      <td>1171689</td>\n",
       "      <td>71491.0</td>\n",
       "      <td>11045.0</td>\n",
       "      <td>NaN</td>\n",
       "    </tr>\n",
       "    <tr>\n",
       "      <th>1989-07</th>\n",
       "      <td>1222448</td>\n",
       "      <td>50759.0</td>\n",
       "      <td>132730.0</td>\n",
       "      <td>115165.0</td>\n",
       "    </tr>\n",
       "    <tr>\n",
       "      <th>1989-08</th>\n",
       "      <td>1240544</td>\n",
       "      <td>18096.0</td>\n",
       "      <td>140346.0</td>\n",
       "      <td>190146.0</td>\n",
       "    </tr>\n",
       "    <tr>\n",
       "      <th>1989-09</th>\n",
       "      <td>1195918</td>\n",
       "      <td>-44626.0</td>\n",
       "      <td>24229.0</td>\n",
       "      <td>35274.0</td>\n",
       "    </tr>\n",
       "    <tr>\n",
       "      <th>1989-10</th>\n",
       "      <td>1196750</td>\n",
       "      <td>832.0</td>\n",
       "      <td>-25698.0</td>\n",
       "      <td>107032.0</td>\n",
       "    </tr>\n",
       "  </tbody>\n",
       "</table>\n",
       "</div>"
      ],
      "text/plain": [
       "         total_passengers    diff_1    diff_3    diff_6\n",
       "month                                                  \n",
       "1989-01           1107283       NaN       NaN       NaN\n",
       "1989-02           1050398  -56885.0       NaN       NaN\n",
       "1989-03           1160644  110246.0       NaN       NaN\n",
       "1989-04           1089718  -70926.0  -17565.0       NaN\n",
       "1989-05           1100198   10480.0   49800.0       NaN\n",
       "1989-06           1171689   71491.0   11045.0       NaN\n",
       "1989-07           1222448   50759.0  132730.0  115165.0\n",
       "1989-08           1240544   18096.0  140346.0  190146.0\n",
       "1989-09           1195918  -44626.0   24229.0   35274.0\n",
       "1989-10           1196750     832.0  -25698.0  107032.0"
      ]
     },
     "execution_count": 9,
     "metadata": {},
     "output_type": "execute_result"
    }
   ],
   "source": [
    "# create additional columns of differenced data\n",
    "passenger_traffic['diff_1'] = passenger_traffic['total_passengers'].diff() # 1 month\n",
    "passenger_traffic['diff_3'] = passenger_traffic['total_passengers'].diff(3) # 3 months\n",
    "passenger_traffic['diff_6'] = passenger_traffic['total_passengers'].diff(6) # 6 months\n",
    "\n",
    "passenger_traffic.head(10)"
   ]
  },
  {
   "cell_type": "code",
   "execution_count": 10,
   "id": "e05014e4",
   "metadata": {},
   "outputs": [],
   "source": [
    "# drop na values\n",
    "pax_traffic_diff = passenger_traffic.dropna()"
   ]
  },
  {
   "cell_type": "code",
   "execution_count": 11,
   "id": "7a7af475",
   "metadata": {},
   "outputs": [
    {
     "data": {
      "text/plain": [
       "(0.01, False)"
      ]
     },
     "execution_count": 11,
     "metadata": {},
     "output_type": "execute_result"
    }
   ],
   "source": [
    "# test for stationarity for data differenced by d = 1\n",
    "adf_test.should_diff(pax_traffic_diff['diff_1'])"
   ]
  },
  {
   "cell_type": "markdown",
   "id": "ff7e088b",
   "metadata": {},
   "source": [
    "Since p-value < 0.05, we can reject the null hypothesis and conclude the data is stationary. In this case, d = 1 would be sufficient for the subsequent modeling and the other columns for d = 3 and d = 6 can be dropped."
   ]
  },
  {
   "cell_type": "code",
   "execution_count": 12,
   "id": "6cb6000a",
   "metadata": {},
   "outputs": [],
   "source": [
    "# drop 'diff_3' and 'diff_6' columns\n",
    "passenger_traffic = passenger_traffic.iloc[:, :-2]"
   ]
  },
  {
   "cell_type": "markdown",
   "id": "e0d32e3b",
   "metadata": {},
   "source": [
    "### Lag interval"
   ]
  },
  {
   "cell_type": "markdown",
   "id": "f48ae46f",
   "metadata": {},
   "source": [
    "In determing a suitable lag interval, we first examine for patterns in passenger traffic data by breaking down the data in blocks of 10 years:\n",
    "1. 1990 to 1999\n",
    "2. 2000 to 2009\n",
    "3. 2010 to 2019"
   ]
  },
  {
   "cell_type": "markdown",
   "id": "5e4b80bc",
   "metadata": {},
   "source": [
    "i. Years 1990 to 1999"
   ]
  },
  {
   "cell_type": "code",
   "execution_count": 13,
   "id": "0acfafa8",
   "metadata": {},
   "outputs": [
    {
     "data": {
      "image/png": "[encoded data removed]",
      "text/plain": [
       "<Figure size 576x432 with 1 Axes>"
      ]
     },
     "metadata": {
      "needs_background": "light"
     },
     "output_type": "display_data"
    }
   ],
   "source": [
    "# filter data by decade\n",
    "traffic_1990 = passenger_traffic['1990':'2000']\n",
    "\n",
    "# convert index to datetime objects\n",
    "traffic_1990.index = pd.to_datetime(traffic_1990.index)\n",
    "\n",
    "# set figure size and create subplot\n",
    "plt.figure(figsize = (8, 6))\n",
    "\n",
    "# plot data\n",
    "sns.lineplot(data = traffic_1990['total_passengers'], x = traffic_1990.index, y = traffic_1990['total_passengers'].values, label = 'Passenger Traffic')\n",
    "\n",
    "# title and labels\n",
    "plt.title('Total Passenger Traffic (1990 to 1999)')\n",
    "plt.xlabel('Year')\n",
    "plt.ylabel('Passenger Numbers')\n",
    "\n",
    "# calculate unique years (1-year interval)\n",
    "unique_years = traffic_1990.index.year.unique()\n",
    "\n",
    "# set x-axis ticks to display unique years\n",
    "plt.xticks(pd.to_datetime(unique_years, format = '%Y'), unique_years)\n",
    "\n",
    "# show legend\n",
    "plt.legend()\n",
    "\n",
    "# show plot\n",
    "plt.show()"
   ]
  },
  {
   "cell_type": "markdown",
   "id": "11cb603f",
   "metadata": {},
   "source": [
    "ii. Years 2000 to 2009"
   ]
  },
  {
   "cell_type": "code",
   "execution_count": 14,
   "id": "84979b28",
   "metadata": {},
   "outputs": [
    {
     "data": {
      "image/png": "[encoded data removed]",
      "text/plain": [
       "<Figure size 576x432 with 1 Axes>"
      ]
     },
     "metadata": {
      "needs_background": "light"
     },
     "output_type": "display_data"
    }
   ],
   "source": [
    "# filter data by decade\n",
    "traffic_2000 = passenger_traffic['2000':'2010']\n",
    "\n",
    "# convert index to datetime objects\n",
    "traffic_2000.index = pd.to_datetime(traffic_2000.index)\n",
    "\n",
    "# set figure size and create subplot\n",
    "plt.figure(figsize = (8, 6))\n",
    "\n",
    "# plot data\n",
    "sns.lineplot(data = traffic_2000['total_passengers'], x = traffic_2000.index, y = traffic_2000['total_passengers'].values, label = 'Passenger Traffic')\n",
    "\n",
    "# title and labels\n",
    "plt.title('Total Passenger Traffic (2000 to 2009)')\n",
    "plt.xlabel('Year')\n",
    "plt.ylabel('Passenger Numbers')\n",
    "\n",
    "# calculate unique years (1-year interval)\n",
    "unique_years = traffic_2000.index.year.unique()\n",
    "\n",
    "# set x-axis ticks to display unique years\n",
    "plt.xticks(pd.to_datetime(unique_years, format = '%Y'), unique_years)\n",
    "\n",
    "# show legend\n",
    "plt.legend()\n",
    "\n",
    "# show plot\n",
    "plt.show()"
   ]
  },
  {
   "cell_type": "markdown",
   "id": "f51a3308",
   "metadata": {},
   "source": [
    "iii. Years 2010 to 2019"
   ]
  },
  {
   "cell_type": "code",
   "execution_count": 15,
   "id": "3d72b6fd",
   "metadata": {
    "scrolled": true
   },
   "outputs": [
    {
     "data": {
      "image/png": "[encoded data removed]",
      "text/plain": [
       "<Figure size 576x432 with 1 Axes>"
      ]
     },
     "metadata": {
      "needs_background": "light"
     },
     "output_type": "display_data"
    }
   ],
   "source": [
    "# filter data by decade\n",
    "traffic_2010 = passenger_traffic['2010':'2020']\n",
    "\n",
    "# convert index to datetime objects\n",
    "traffic_2010.index = pd.to_datetime(traffic_2010.index)\n",
    "\n",
    "# set figure size and create subplot\n",
    "plt.figure(figsize = (8, 6))\n",
    "\n",
    "# plot data\n",
    "sns.lineplot(data = traffic_2010['total_passengers'], x = traffic_2010.index, y = traffic_2010['total_passengers'].values, label='Passenger Traffic')\n",
    "\n",
    "# title and labels\n",
    "plt.title('Passenger Traffic (2010 to 2019)')\n",
    "plt.xlabel('Year')\n",
    "plt.ylabel('Passenger Numbers')\n",
    "\n",
    "# calculate unique years (1-year interval)\n",
    "unique_years = traffic_2010.index.year.unique()\n",
    "\n",
    "# set x-axis ticks to display unique years\n",
    "plt.xticks(pd.to_datetime(unique_years, format = '%Y'), unique_years)\n",
    "\n",
    "# Show the legend\n",
    "plt.legend()\n",
    "\n",
    "# Show the plot\n",
    "plt.show()"
   ]
  },
  {
   "cell_type": "markdown",
   "id": "09eae305",
   "metadata": {},
   "source": [
    "Based on the above plots, it is observed that each year experiences a spike in mid year before going down and spiking again at the end of the year (excluding periods of drastic drop due to external factors). Thus, it may be appropriate to include a lag feature with a lag interval of 12 months to represent the annual cycle."
   ]
  },
  {
   "cell_type": "code",
   "execution_count": 16,
   "id": "bf65ec54",
   "metadata": {},
   "outputs": [],
   "source": [
    "# create column for lag feature\n",
    "passenger_traffic['lag_12'] = passenger_traffic['total_passengers'].shift(12)"
   ]
  },
  {
   "cell_type": "code",
   "execution_count": 17,
   "id": "8e173c96",
   "metadata": {},
   "outputs": [
    {
     "data": {
      "text/html": [
       "<div>\n",
       "<style scoped>\n",
       "    .dataframe tbody tr th:only-of-type {\n",
       "        vertical-align: middle;\n",
       "    }\n",
       "\n",
       "    .dataframe tbody tr th {\n",
       "        vertical-align: top;\n",
       "    }\n",
       "\n",
       "    .dataframe thead th {\n",
       "        text-align: right;\n",
       "    }\n",
       "</style>\n",
       "<table border=\"1\" class=\"dataframe\">\n",
       "  <thead>\n",
       "    <tr style=\"text-align: right;\">\n",
       "      <th></th>\n",
       "      <th>total_passengers</th>\n",
       "      <th>diff_1</th>\n",
       "      <th>lag_12</th>\n",
       "    </tr>\n",
       "    <tr>\n",
       "      <th>month</th>\n",
       "      <th></th>\n",
       "      <th></th>\n",
       "      <th></th>\n",
       "    </tr>\n",
       "  </thead>\n",
       "  <tbody>\n",
       "    <tr>\n",
       "      <th>1990-01</th>\n",
       "      <td>1272188</td>\n",
       "      <td>-84433.0</td>\n",
       "      <td>1107283.0</td>\n",
       "    </tr>\n",
       "    <tr>\n",
       "      <th>1990-02</th>\n",
       "      <td>1183722</td>\n",
       "      <td>-88466.0</td>\n",
       "      <td>1050398.0</td>\n",
       "    </tr>\n",
       "    <tr>\n",
       "      <th>1990-03</th>\n",
       "      <td>1296306</td>\n",
       "      <td>112584.0</td>\n",
       "      <td>1160644.0</td>\n",
       "    </tr>\n",
       "    <tr>\n",
       "      <th>1990-04</th>\n",
       "      <td>1236082</td>\n",
       "      <td>-60224.0</td>\n",
       "      <td>1089718.0</td>\n",
       "    </tr>\n",
       "    <tr>\n",
       "      <th>1990-05</th>\n",
       "      <td>1250117</td>\n",
       "      <td>14035.0</td>\n",
       "      <td>1100198.0</td>\n",
       "    </tr>\n",
       "  </tbody>\n",
       "</table>\n",
       "</div>"
      ],
      "text/plain": [
       "         total_passengers    diff_1     lag_12\n",
       "month                                         \n",
       "1990-01           1272188  -84433.0  1107283.0\n",
       "1990-02           1183722  -88466.0  1050398.0\n",
       "1990-03           1296306  112584.0  1160644.0\n",
       "1990-04           1236082  -60224.0  1089718.0\n",
       "1990-05           1250117   14035.0  1100198.0"
      ]
     },
     "execution_count": 17,
     "metadata": {},
     "output_type": "execute_result"
    }
   ],
   "source": [
    "# drop na values\n",
    "mod_pax_traffic = passenger_traffic.dropna()\n",
    "\n",
    "mod_pax_traffic.head()"
   ]
  },
  {
   "cell_type": "code",
   "execution_count": 18,
   "id": "e148641f",
   "metadata": {},
   "outputs": [
    {
     "data": {
      "text/html": [
       "<div>\n",
       "<style scoped>\n",
       "    .dataframe tbody tr th:only-of-type {\n",
       "        vertical-align: middle;\n",
       "    }\n",
       "\n",
       "    .dataframe tbody tr th {\n",
       "        vertical-align: top;\n",
       "    }\n",
       "\n",
       "    .dataframe thead th {\n",
       "        text-align: right;\n",
       "    }\n",
       "</style>\n",
       "<table border=\"1\" class=\"dataframe\">\n",
       "  <thead>\n",
       "    <tr style=\"text-align: right;\">\n",
       "      <th></th>\n",
       "      <th>total_passengers</th>\n",
       "      <th>diff_1</th>\n",
       "      <th>lag_12</th>\n",
       "    </tr>\n",
       "    <tr>\n",
       "      <th>month</th>\n",
       "      <th></th>\n",
       "      <th></th>\n",
       "      <th></th>\n",
       "    </tr>\n",
       "  </thead>\n",
       "  <tbody>\n",
       "    <tr>\n",
       "      <th>1990-01</th>\n",
       "      <td>1272188</td>\n",
       "      <td>-84433.0</td>\n",
       "      <td>1107283.0</td>\n",
       "    </tr>\n",
       "    <tr>\n",
       "      <th>1990-02</th>\n",
       "      <td>1183722</td>\n",
       "      <td>-88466.0</td>\n",
       "      <td>1050398.0</td>\n",
       "    </tr>\n",
       "    <tr>\n",
       "      <th>1990-03</th>\n",
       "      <td>1296306</td>\n",
       "      <td>112584.0</td>\n",
       "      <td>1160644.0</td>\n",
       "    </tr>\n",
       "    <tr>\n",
       "      <th>1990-04</th>\n",
       "      <td>1236082</td>\n",
       "      <td>-60224.0</td>\n",
       "      <td>1089718.0</td>\n",
       "    </tr>\n",
       "    <tr>\n",
       "      <th>1990-05</th>\n",
       "      <td>1250117</td>\n",
       "      <td>14035.0</td>\n",
       "      <td>1100198.0</td>\n",
       "    </tr>\n",
       "    <tr>\n",
       "      <th>1990-06</th>\n",
       "      <td>1318779</td>\n",
       "      <td>68662.0</td>\n",
       "      <td>1171689.0</td>\n",
       "    </tr>\n",
       "    <tr>\n",
       "      <th>1990-07</th>\n",
       "      <td>1324661</td>\n",
       "      <td>5882.0</td>\n",
       "      <td>1222448.0</td>\n",
       "    </tr>\n",
       "    <tr>\n",
       "      <th>1990-08</th>\n",
       "      <td>1384333</td>\n",
       "      <td>59672.0</td>\n",
       "      <td>1240544.0</td>\n",
       "    </tr>\n",
       "    <tr>\n",
       "      <th>1990-09</th>\n",
       "      <td>1257513</td>\n",
       "      <td>-126820.0</td>\n",
       "      <td>1195918.0</td>\n",
       "    </tr>\n",
       "    <tr>\n",
       "      <th>1990-10</th>\n",
       "      <td>1280024</td>\n",
       "      <td>22511.0</td>\n",
       "      <td>1196750.0</td>\n",
       "    </tr>\n",
       "    <tr>\n",
       "      <th>1990-11</th>\n",
       "      <td>1334484</td>\n",
       "      <td>54460.0</td>\n",
       "      <td>1244156.0</td>\n",
       "    </tr>\n",
       "    <tr>\n",
       "      <th>1990-12</th>\n",
       "      <td>1482549</td>\n",
       "      <td>148065.0</td>\n",
       "      <td>1356621.0</td>\n",
       "    </tr>\n",
       "    <tr>\n",
       "      <th>1991-01</th>\n",
       "      <td>1233440</td>\n",
       "      <td>-249109.0</td>\n",
       "      <td>1272188.0</td>\n",
       "    </tr>\n",
       "    <tr>\n",
       "      <th>1991-02</th>\n",
       "      <td>1087214</td>\n",
       "      <td>-146226.0</td>\n",
       "      <td>1183722.0</td>\n",
       "    </tr>\n",
       "    <tr>\n",
       "      <th>1991-03</th>\n",
       "      <td>1200026</td>\n",
       "      <td>112812.0</td>\n",
       "      <td>1296306.0</td>\n",
       "    </tr>\n",
       "    <tr>\n",
       "      <th>1991-04</th>\n",
       "      <td>1238184</td>\n",
       "      <td>38158.0</td>\n",
       "      <td>1236082.0</td>\n",
       "    </tr>\n",
       "    <tr>\n",
       "      <th>1991-05</th>\n",
       "      <td>1246966</td>\n",
       "      <td>8782.0</td>\n",
       "      <td>1250117.0</td>\n",
       "    </tr>\n",
       "    <tr>\n",
       "      <th>1991-06</th>\n",
       "      <td>1467963</td>\n",
       "      <td>220997.0</td>\n",
       "      <td>1318779.0</td>\n",
       "    </tr>\n",
       "    <tr>\n",
       "      <th>1991-07</th>\n",
       "      <td>1405019</td>\n",
       "      <td>-62944.0</td>\n",
       "      <td>1324661.0</td>\n",
       "    </tr>\n",
       "    <tr>\n",
       "      <th>1991-08</th>\n",
       "      <td>1505693</td>\n",
       "      <td>100674.0</td>\n",
       "      <td>1384333.0</td>\n",
       "    </tr>\n",
       "  </tbody>\n",
       "</table>\n",
       "</div>"
      ],
      "text/plain": [
       "         total_passengers    diff_1     lag_12\n",
       "month                                         \n",
       "1990-01           1272188  -84433.0  1107283.0\n",
       "1990-02           1183722  -88466.0  1050398.0\n",
       "1990-03           1296306  112584.0  1160644.0\n",
       "1990-04           1236082  -60224.0  1089718.0\n",
       "1990-05           1250117   14035.0  1100198.0\n",
       "1990-06           1318779   68662.0  1171689.0\n",
       "1990-07           1324661    5882.0  1222448.0\n",
       "1990-08           1384333   59672.0  1240544.0\n",
       "1990-09           1257513 -126820.0  1195918.0\n",
       "1990-10           1280024   22511.0  1196750.0\n",
       "1990-11           1334484   54460.0  1244156.0\n",
       "1990-12           1482549  148065.0  1356621.0\n",
       "1991-01           1233440 -249109.0  1272188.0\n",
       "1991-02           1087214 -146226.0  1183722.0\n",
       "1991-03           1200026  112812.0  1296306.0\n",
       "1991-04           1238184   38158.0  1236082.0\n",
       "1991-05           1246966    8782.0  1250117.0\n",
       "1991-06           1467963  220997.0  1318779.0\n",
       "1991-07           1405019  -62944.0  1324661.0\n",
       "1991-08           1505693  100674.0  1384333.0"
      ]
     },
     "execution_count": 18,
     "metadata": {},
     "output_type": "execute_result"
    }
   ],
   "source": [
    "mod_pax_traffic.head(20)"
   ]
  },
  {
   "cell_type": "code",
   "execution_count": 19,
   "id": "d528e412",
   "metadata": {},
   "outputs": [
    {
     "data": {
      "text/html": [
       "<div>\n",
       "<style scoped>\n",
       "    .dataframe tbody tr th:only-of-type {\n",
       "        vertical-align: middle;\n",
       "    }\n",
       "\n",
       "    .dataframe tbody tr th {\n",
       "        vertical-align: top;\n",
       "    }\n",
       "\n",
       "    .dataframe thead th {\n",
       "        text-align: right;\n",
       "    }\n",
       "</style>\n",
       "<table border=\"1\" class=\"dataframe\">\n",
       "  <thead>\n",
       "    <tr style=\"text-align: right;\">\n",
       "      <th></th>\n",
       "      <th>total_passengers</th>\n",
       "      <th>diff_1</th>\n",
       "      <th>lag_12</th>\n",
       "    </tr>\n",
       "    <tr>\n",
       "      <th>month</th>\n",
       "      <th></th>\n",
       "      <th></th>\n",
       "      <th></th>\n",
       "    </tr>\n",
       "  </thead>\n",
       "  <tbody>\n",
       "    <tr>\n",
       "      <th>1990-01</th>\n",
       "      <td>1272188</td>\n",
       "      <td>-84433.0</td>\n",
       "      <td>1107283.0</td>\n",
       "    </tr>\n",
       "    <tr>\n",
       "      <th>1990-02</th>\n",
       "      <td>1183722</td>\n",
       "      <td>-88466.0</td>\n",
       "      <td>1050398.0</td>\n",
       "    </tr>\n",
       "    <tr>\n",
       "      <th>1990-03</th>\n",
       "      <td>1296306</td>\n",
       "      <td>112584.0</td>\n",
       "      <td>1160644.0</td>\n",
       "    </tr>\n",
       "    <tr>\n",
       "      <th>1990-04</th>\n",
       "      <td>1236082</td>\n",
       "      <td>-60224.0</td>\n",
       "      <td>1089718.0</td>\n",
       "    </tr>\n",
       "    <tr>\n",
       "      <th>1990-05</th>\n",
       "      <td>1250117</td>\n",
       "      <td>14035.0</td>\n",
       "      <td>1100198.0</td>\n",
       "    </tr>\n",
       "    <tr>\n",
       "      <th>...</th>\n",
       "      <td>...</td>\n",
       "      <td>...</td>\n",
       "      <td>...</td>\n",
       "    </tr>\n",
       "    <tr>\n",
       "      <th>2022-12</th>\n",
       "      <td>4620193</td>\n",
       "      <td>656898.0</td>\n",
       "      <td>817092.0</td>\n",
       "    </tr>\n",
       "    <tr>\n",
       "      <th>2023-01</th>\n",
       "      <td>4366912</td>\n",
       "      <td>-253281.0</td>\n",
       "      <td>719926.0</td>\n",
       "    </tr>\n",
       "    <tr>\n",
       "      <th>2023-02</th>\n",
       "      <td>4002734</td>\n",
       "      <td>-364178.0</td>\n",
       "      <td>702917.0</td>\n",
       "    </tr>\n",
       "    <tr>\n",
       "      <th>2023-03</th>\n",
       "      <td>4633939</td>\n",
       "      <td>631205.0</td>\n",
       "      <td>1141411.0</td>\n",
       "    </tr>\n",
       "    <tr>\n",
       "      <th>2023-04</th>\n",
       "      <td>4603335</td>\n",
       "      <td>-30604.0</td>\n",
       "      <td>1932520.0</td>\n",
       "    </tr>\n",
       "  </tbody>\n",
       "</table>\n",
       "<p>400 rows × 3 columns</p>\n",
       "</div>"
      ],
      "text/plain": [
       "         total_passengers    diff_1     lag_12\n",
       "month                                         \n",
       "1990-01           1272188  -84433.0  1107283.0\n",
       "1990-02           1183722  -88466.0  1050398.0\n",
       "1990-03           1296306  112584.0  1160644.0\n",
       "1990-04           1236082  -60224.0  1089718.0\n",
       "1990-05           1250117   14035.0  1100198.0\n",
       "...                   ...       ...        ...\n",
       "2022-12           4620193  656898.0   817092.0\n",
       "2023-01           4366912 -253281.0   719926.0\n",
       "2023-02           4002734 -364178.0   702917.0\n",
       "2023-03           4633939  631205.0  1141411.0\n",
       "2023-04           4603335  -30604.0  1932520.0\n",
       "\n",
       "[400 rows x 3 columns]"
      ]
     },
     "execution_count": 19,
     "metadata": {},
     "output_type": "execute_result"
    }
   ],
   "source": [
    "mod_pax_traffic"
   ]
  },
  {
   "cell_type": "markdown",
   "id": "8e3768fd",
   "metadata": {},
   "source": [
    "### Dataset split"
   ]
  },
  {
   "cell_type": "markdown",
   "id": "871b2ed1",
   "metadata": {},
   "source": [
    "As all columns in the dataframe are already in the same unit of measurement, there would be no need for standardisation and the train-test split can be done directly."
   ]
  },
  {
   "cell_type": "code",
   "execution_count": 20,
   "id": "edf7fa0f",
   "metadata": {},
   "outputs": [],
   "source": [
    "# calculate the index for splitting\n",
    "split_index = int(len(mod_pax_traffic) * 0.7)\n",
    "\n",
    "# split the sorted data into train and test sets\n",
    "train_data = mod_pax_traffic.iloc[:split_index]\n",
    "test_data = mod_pax_traffic.iloc[split_index:]\n",
    "\n",
    "# separate features and target variable\n",
    "X_train = train_data.drop(columns = ['total_passengers'])\n",
    "y_train = train_data['total_passengers']\n",
    "\n",
    "X_test = test_data.drop(columns = ['total_passengers'])\n",
    "y_test = test_data['total_passengers']"
   ]
  },
  {
   "cell_type": "markdown",
   "id": "6b712a26",
   "metadata": {},
   "source": [
    "## 3.2 Modeling (Part 1)"
   ]
  },
  {
   "cell_type": "markdown",
   "id": "4a894b05",
   "metadata": {},
   "source": [
    "### 3.2.1 Linear regression"
   ]
  },
  {
   "cell_type": "code",
   "execution_count": 21,
   "id": "29af541b",
   "metadata": {},
   "outputs": [
    {
     "name": "stdout",
     "output_type": "stream",
     "text": [
      "MAPE (train): 0.07270371965400732\n",
      "MAPE (test): 8.585749005961267\n"
     ]
    }
   ],
   "source": [
    "# instantiate\n",
    "lr = LinearRegression()\n",
    "\n",
    "# fit model\n",
    "lr.fit(X_train, y_train)\n",
    "\n",
    "# predict on test\n",
    "y_pred_lr = lr.predict(X_test)\n",
    "\n",
    "# MAPE on train\n",
    "mape_train_lr = cross_val_score(lr, \n",
    "                           X_train, \n",
    "                           y_train, \n",
    "                           cv = 5, \n",
    "                           scoring = 'neg_mean_absolute_percentage_error')\n",
    "\n",
    "# MAPE on test\n",
    "mape_test_lr = np.mean(np.abs((y_test - y_pred_lr) / y_test))\n",
    "\n",
    "print(f'MAPE (train): {np.mean(np.abs(mape_train_lr))}')\n",
    "print(f'MAPE (test): {np.mean(mape_test_lr)}')"
   ]
  },
  {
   "cell_type": "code",
   "execution_count": 22,
   "id": "ac4996dd",
   "metadata": {},
   "outputs": [
    {
     "data": {
      "text/html": [
       "<div>\n",
       "<style scoped>\n",
       "    .dataframe tbody tr th:only-of-type {\n",
       "        vertical-align: middle;\n",
       "    }\n",
       "\n",
       "    .dataframe tbody tr th {\n",
       "        vertical-align: top;\n",
       "    }\n",
       "\n",
       "    .dataframe thead th {\n",
       "        text-align: right;\n",
       "    }\n",
       "</style>\n",
       "<table border=\"1\" class=\"dataframe\">\n",
       "  <thead>\n",
       "    <tr style=\"text-align: right;\">\n",
       "      <th></th>\n",
       "      <th>Feature</th>\n",
       "      <th>Coefficient</th>\n",
       "    </tr>\n",
       "  </thead>\n",
       "  <tbody>\n",
       "    <tr>\n",
       "      <th>0</th>\n",
       "      <td>diff_1</td>\n",
       "      <td>0.196334</td>\n",
       "    </tr>\n",
       "    <tr>\n",
       "      <th>1</th>\n",
       "      <td>lag_12</td>\n",
       "      <td>1.027348</td>\n",
       "    </tr>\n",
       "  </tbody>\n",
       "</table>\n",
       "</div>"
      ],
      "text/plain": [
       "  Feature  Coefficient\n",
       "0  diff_1     0.196334\n",
       "1  lag_12     1.027348"
      ]
     },
     "execution_count": 22,
     "metadata": {},
     "output_type": "execute_result"
    }
   ],
   "source": [
    "# create df to store coefficients\n",
    "lr_coef = pd.DataFrame({'Feature': X_train.columns, 'Coefficient': lr.coef_})\n",
    "\n",
    "lr_coef"
   ]
  },
  {
   "cell_type": "code",
   "execution_count": 23,
   "id": "ca397505",
   "metadata": {},
   "outputs": [
    {
     "data": {
      "image/png": "[encoded data removed]",
      "text/plain": [
       "<Figure size 720x576 with 1 Axes>"
      ]
     },
     "metadata": {
      "needs_background": "light"
     },
     "output_type": "display_data"
    }
   ],
   "source": [
    "# plot testing data against predictions\n",
    "# convert index to datetime objects\n",
    "y_test.index = pd.to_datetime(y_test.index)\n",
    "\n",
    "# set figure size and create subplot\n",
    "plt.figure(figsize = (10, 8))\n",
    "ax = plt.subplot()\n",
    "\n",
    "# plot test data\n",
    "sns.lineplot(x = y_test.index, y = y_test, label = 'y_test', ax = ax)\n",
    "\n",
    "# plot predictions\n",
    "sns.lineplot(x = y_test.index, y = y_pred_lr, label = 'y_pred', ax = ax)\n",
    "\n",
    "# title and labels\n",
    "plt.title('Linear Regression Predictions')\n",
    "plt.xlabel('Year')\n",
    "plt.ylabel('Passenger Numbers')\n",
    "\n",
    "# legend\n",
    "plt.legend()\n",
    "\n",
    "# show plot\n",
    "plt.show()"
   ]
  },
  {
   "cell_type": "markdown",
   "id": "30add4fb",
   "metadata": {},
   "source": [
    "#### Check assumptions (L, I, N, E, M)"
   ]
  },
  {
   "cell_type": "markdown",
   "id": "b728de67",
   "metadata": {},
   "source": [
    "i. Linearity"
   ]
  },
  {
   "cell_type": "code",
   "execution_count": 24,
   "id": "b40df72e",
   "metadata": {
    "scrolled": true
   },
   "outputs": [
    {
     "data": {
      "image/png": "[encoded data removed]",
      "text/plain": [
       "<Figure size 432x288 with 1 Axes>"
      ]
     },
     "metadata": {
      "needs_background": "light"
     },
     "output_type": "display_data"
    },
    {
     "data": {
      "image/png": "[encoded data removed]",
      "text/plain": [
       "<Figure size 432x288 with 1 Axes>"
      ]
     },
     "metadata": {
      "needs_background": "light"
     },
     "output_type": "display_data"
    }
   ],
   "source": [
    "for col in mod_pax_traffic.iloc[:,1:3].columns:\n",
    "    plt.title(f'total_passengers against {col}')\n",
    "    plt.scatter(mod_pax_traffic[col], mod_pax_traffic['total_passengers'], s = 1)\n",
    "    plt.show()"
   ]
  },
  {
   "cell_type": "markdown",
   "id": "4f6baa84",
   "metadata": {},
   "source": [
    "The linearity assumption assumes that there is a linear relationship between the features and target variable. In this case, linear relationship can only be observed with the feature 'lag_12' which contains the lagged values of interval = 12."
   ]
  },
  {
   "cell_type": "markdown",
   "id": "3e71b76e",
   "metadata": {},
   "source": [
    "ii. Independence"
   ]
  },
  {
   "cell_type": "markdown",
   "id": "3f561690",
   "metadata": {},
   "source": [
    "The dataset records the factual observations of passenger traffic (for arrival, departure and transit) and thus, fulfils the independence assumption."
   ]
  },
  {
   "cell_type": "markdown",
   "id": "a8cb72b2",
   "metadata": {},
   "source": [
    "iii. Normality of errors"
   ]
  },
  {
   "cell_type": "code",
   "execution_count": 25,
   "id": "07c3227a",
   "metadata": {},
   "outputs": [
    {
     "data": {
      "image/png": "[encoded data removed]",
      "text/plain": [
       "<Figure size 432x288 with 1 Axes>"
      ]
     },
     "metadata": {
      "needs_background": "light"
     },
     "output_type": "display_data"
    }
   ],
   "source": [
    "resid = y_pred_lr - y_test\n",
    "plt.hist(resid, bins = 50)\n",
    "\n",
    "plt.show()"
   ]
  },
  {
   "cell_type": "markdown",
   "id": "86f7d9c3",
   "metadata": {},
   "source": [
    "Based on the above histogram, it is observed that errors are not normally distributed."
   ]
  },
  {
   "cell_type": "markdown",
   "id": "91dbcb9d",
   "metadata": {},
   "source": [
    "iv. Equal variance of errors"
   ]
  },
  {
   "cell_type": "code",
   "execution_count": 26,
   "id": "de4a31dc",
   "metadata": {},
   "outputs": [
    {
     "data": {
      "image/png": "[encoded data removed]",
      "text/plain": [
       "<Figure size 432x288 with 1 Axes>"
      ]
     },
     "metadata": {
      "needs_background": "light"
     },
     "output_type": "display_data"
    }
   ],
   "source": [
    "plt.scatter(y_pred_lr, resid, s = 1)\n",
    "plt.axhline(0, color = 'orange')\n",
    "\n",
    "plt.show()"
   ]
  },
  {
   "cell_type": "markdown",
   "id": "8a81a533",
   "metadata": {},
   "source": [
    "Based on the above scatterplot, the residuals are mostly negative with quite a few outliers which would affect the regression line and thereby affecting the model's ability to predict well."
   ]
  },
  {
   "cell_type": "markdown",
   "id": "a6b6c2a5",
   "metadata": {},
   "source": [
    "v. Multicollinearity"
   ]
  },
  {
   "cell_type": "code",
   "execution_count": 27,
   "id": "c6366d84",
   "metadata": {},
   "outputs": [
    {
     "data": {
      "text/plain": [
       "Series([], dtype: bool)"
      ]
     },
     "execution_count": 27,
     "metadata": {},
     "output_type": "execute_result"
    }
   ],
   "source": [
    "corr_matrix = X_train.corr()\n",
    "high_corr = ((corr_matrix > 0.7) & (corr_matrix < 1)).any()\n",
    "\n",
    "# filter out False observations\n",
    "high_corr_true = high_corr[high_corr == True]\n",
    "\n",
    "high_corr_true"
   ]
  },
  {
   "cell_type": "markdown",
   "id": "8e0bc5b8",
   "metadata": {},
   "source": [
    "The two features added to represent differenced and lagged values respectively are not highly correlated with each other."
   ]
  },
  {
   "cell_type": "markdown",
   "id": "b8b10120",
   "metadata": {},
   "source": [
    "##### Model summary and performance successes / downfalls"
   ]
  },
  {
   "cell_type": "markdown",
   "id": "8acd285e",
   "metadata": {},
   "source": [
    "While linear regression appears to be the simplest kind of forecasting due to model's interpretability and ease of implementation, we improved its ability to handle time series data by introducing lagged and differenced values. However, such model may still face difficulties in effectively capturing non-linear relationships and temporal dependencies in the data.\n",
    "\n",
    "Here, the train MAPE is relatively small at about 0.0727, the test MAPE is a lot larger at about 8.59 despite utilising cross validation to minimise overfitting. Nonetheless, plotting the predicted values against the true (test) values shows that the patterns of the predictions seem to be able to trace that of the true values relatively well.\n",
    "\n",
    "On the additional features (differenced and lagged values), both coefficients are positive which suggest that a positive change in the differenced value or lagged value would contribute to a positive change in the target variable of total passenger traffic (and vice versa). However, it appears that the differenced values have a smaller influence on the target variable in view of the much small coefficient of about 0.196 as compared to the coefficient of the lagged values of 1.03."
   ]
  },
  {
   "cell_type": "markdown",
   "id": "a94d8b4f",
   "metadata": {},
   "source": [
    "### 3.2.2 XGBoost"
   ]
  },
  {
   "cell_type": "code",
   "execution_count": 28,
   "id": "f9e9204f",
   "metadata": {},
   "outputs": [
    {
     "name": "stdout",
     "output_type": "stream",
     "text": [
      "MAPE (train): 0.2014497259833417\n",
      "MAPE (test): 7.364983621298659\n"
     ]
    }
   ],
   "source": [
    "# instantiate\n",
    "xgb = XGBRegressor(n_estimators = 25, max_depth = 5)\n",
    "\n",
    "# fit on train\n",
    "xgb.fit(X_train, y_train)\n",
    "\n",
    "# predict on test\n",
    "y_pred_xgb = xgb.predict(X_test)\n",
    "\n",
    "# MAPE on train\n",
    "mape_train_xgb = cross_val_score(xgb, \n",
    "                           X_train, \n",
    "                           y_train, \n",
    "                           cv = 5, \n",
    "                           scoring = 'neg_mean_absolute_percentage_error')\n",
    "\n",
    "# MAPE on test\n",
    "mape_test_xgb = np.mean(np.abs((y_test - y_pred_xgb) / y_test))\n",
    "\n",
    "print(f'MAPE (train): {np.mean(np.abs(mape_train_xgb))}')\n",
    "print(f'MAPE (test): {np.mean(mape_test_xgb)}')"
   ]
  },
  {
   "cell_type": "code",
   "execution_count": 29,
   "id": "a7889143",
   "metadata": {},
   "outputs": [
    {
     "data": {
      "image/png": "[encoded data removed]",
      "text/plain": [
       "<Figure size 720x576 with 1 Axes>"
      ]
     },
     "metadata": {
      "needs_background": "light"
     },
     "output_type": "display_data"
    }
   ],
   "source": [
    "# plot testing data against predictions\n",
    "# convert index to datetime objects\n",
    "y_test.index = pd.to_datetime(y_test.index)\n",
    "\n",
    "# set figure size and create subplot\n",
    "plt.figure(figsize = (10, 8))\n",
    "ax = plt.subplot()\n",
    "\n",
    "# plot test data\n",
    "sns.lineplot(x = y_test.index, y = y_test, label = 'y_test', ax = ax)\n",
    "\n",
    "# plot predictions\n",
    "sns.lineplot(x = y_test.index, y = y_pred_xgb, label = 'y_pred', ax = ax)\n",
    "\n",
    "# title and labels\n",
    "plt.title('XGBoost Predictions')\n",
    "plt.xlabel('Year')\n",
    "plt.ylabel('Passenger Numbers')\n",
    "\n",
    "# legend\n",
    "plt.legend()\n",
    "\n",
    "# show plot\n",
    "plt.show()"
   ]
  },
  {
   "cell_type": "markdown",
   "id": "9f36567d",
   "metadata": {},
   "source": [
    "##### Model summary and performance successes / downfalls"
   ]
  },
  {
   "cell_type": "markdown",
   "id": "2103c881",
   "metadata": {},
   "source": [
    "The XGBoost model works by utilising an ensemble of decision trees and gradient boosting to make predictions, which allows it to capture complex relationships and handle non-linear patterns in the time series data. The ensemble learning nature of the model also allows it to improve its overall performance through minimising overfitting and improving generalisation. However, it is a complex model that is challenging to interpret when compared to other simpler models such as linear regression.\n",
    "\n",
    "When applied onto the time series data here, the XGBoost model gives a train MAPE score of about 0.201 and test MAPE score of 7.36. While the test MAPE score is lower than that of the linear regression model, the plot of the predicted values against the true (test) values reveals that the model seems to have difficulties in capturing the pattern in the data and deviates from the true values rather significantly. Thus, this explains the significant train MAPE score of 0.201 and it could be concluded that the XGBoost model may not be the best suited for this set of time series data."
   ]
  },
  {
   "cell_type": "markdown",
   "id": "c85fec73",
   "metadata": {},
   "source": [
    "### 3.2.3 Prophet"
   ]
  },
  {
   "cell_type": "markdown",
   "id": "3cbf87a6",
   "metadata": {},
   "source": [
    "Developed by Facebook, Prophet is a time series forecasting model that can handle non-linear trends with yearly, weekly, seasonality and holiday effects. It also works well with missing data, changes in trend and presence of outliers. In this case, there would be no need to introduce differenced or lagged values as additional features. Thus, the train-test split would be done on the original passenger_traffic dataframe with just the 'total_passengers' column."
   ]
  },
  {
   "cell_type": "code",
   "execution_count": 30,
   "id": "667226c7",
   "metadata": {},
   "outputs": [],
   "source": [
    "# define dataframe\n",
    "pax_traffic = pd.DataFrame(passenger_traffic['total_passengers'])"
   ]
  },
  {
   "cell_type": "markdown",
   "id": "15bd62ce",
   "metadata": {},
   "source": [
    "The model requires the dataframe to have columns 'ds' and 'y' with the dates and values respectively and thus, the index (containing the year and month) would have to be converted to a regular column. The subsequent 'ds' column also has to be in datetime format."
   ]
  },
  {
   "cell_type": "code",
   "execution_count": 31,
   "id": "7bade705",
   "metadata": {},
   "outputs": [],
   "source": [
    "# convert index to regular column\n",
    "pax_traffic = pax_traffic.reset_index()\n",
    "\n",
    "# rename columns\n",
    "prop_col_names = { 'month': 'ds', 'total_passengers': 'y'}\n",
    "pax_traffic.rename(columns = prop_col_names, inplace = True)"
   ]
  },
  {
   "cell_type": "code",
   "execution_count": 32,
   "id": "a7d4793e",
   "metadata": {},
   "outputs": [
    {
     "data": {
      "text/plain": [
       "ds    object\n",
       "y      int64\n",
       "dtype: object"
      ]
     },
     "execution_count": 32,
     "metadata": {},
     "output_type": "execute_result"
    }
   ],
   "source": [
    "# check dtype\n",
    "pax_traffic.dtypes"
   ]
  },
  {
   "cell_type": "code",
   "execution_count": 33,
   "id": "147a87d0",
   "metadata": {},
   "outputs": [],
   "source": [
    "# convert 'ds' column to datetime\n",
    "pax_traffic['ds'] = pd.to_datetime(pax_traffic['ds'])"
   ]
  },
  {
   "cell_type": "markdown",
   "id": "8564d8c7",
   "metadata": {},
   "source": [
    "Train-test split"
   ]
  },
  {
   "cell_type": "code",
   "execution_count": 34,
   "id": "aa605a49",
   "metadata": {},
   "outputs": [],
   "source": [
    "# define train size\n",
    "train_size = int(0.7 * len(pax_traffic))\n",
    "\n",
    "# train-test split\n",
    "train_data_prop = pax_traffic[:train_size]\n",
    "test_data_prop = pax_traffic[train_size:]"
   ]
  },
  {
   "cell_type": "markdown",
   "id": "d35c1b4b",
   "metadata": {},
   "source": [
    "Modeling"
   ]
  },
  {
   "cell_type": "code",
   "execution_count": 35,
   "id": "542a91a2",
   "metadata": {},
   "outputs": [
    {
     "name": "stderr",
     "output_type": "stream",
     "text": [
      "15:20:06 - cmdstanpy - INFO - Chain [1] start processing\n",
      "15:20:07 - cmdstanpy - INFO - Chain [1] done processing\n"
     ]
    }
   ],
   "source": [
    "# instantiate\n",
    "prop = Prophet()\n",
    "\n",
    "# fit on train\n",
    "prop.fit(train_data_prop)\n",
    "\n",
    "# predict on test\n",
    "future = prop.make_future_dataframe(periods = len(test_data_prop), freq = 'MS')\n",
    "forecast = prop.predict(future)"
   ]
  },
  {
   "cell_type": "code",
   "execution_count": 36,
   "id": "c7140f82",
   "metadata": {},
   "outputs": [],
   "source": [
    "# pred on test\n",
    "pred_values = forecast[-len(test_data_prop):]['yhat']\n",
    "\n",
    "# actual values from test set\n",
    "actual_values = test_data_prop['y']"
   ]
  },
  {
   "cell_type": "code",
   "execution_count": 37,
   "id": "c5b3de36",
   "metadata": {},
   "outputs": [
    {
     "data": {
      "text/plain": [
       "10.85085910297487"
      ]
     },
     "execution_count": 37,
     "metadata": {},
     "output_type": "execute_result"
    }
   ],
   "source": [
    "# calculate MAPE\n",
    "def calculate_mape(y_true, y_pred):\n",
    "    return (abs((y_true - y_pred) / y_true)).mean()\n",
    "\n",
    "mape_prop = calculate_mape(test_data_prop['y'], forecast[-len(test_data_prop):]['yhat'])\n",
    "\n",
    "mape_prop"
   ]
  },
  {
   "cell_type": "code",
   "execution_count": 38,
   "id": "75cc1c53",
   "metadata": {},
   "outputs": [
    {
     "data": {
      "image/png": "[encoded data removed]",
      "text/plain": [
       "<Figure size 720x576 with 1 Axes>"
      ]
     },
     "metadata": {
      "needs_background": "light"
     },
     "output_type": "display_data"
    }
   ],
   "source": [
    "# plot testing data against predictions\n",
    "# set figure size and create subplot\n",
    "plt.figure(figsize = (10, 8))\n",
    "ax = plt.subplot()\n",
    "\n",
    "# plot test data\n",
    "sns.lineplot(x = test_data_prop['ds'], y = actual_values, label = 'y_test', ax = ax)\n",
    "\n",
    "# plot predictions\n",
    "sns.lineplot(x = test_data_prop['ds'], y = pred_values, label = 'y_pred', ax = ax)\n",
    "\n",
    "# title and labels\n",
    "plt.title('Prophet Predictions')\n",
    "plt.xlabel('Year')\n",
    "plt.ylabel('Passenger Numbers')\n",
    "\n",
    "# legend\n",
    "plt.legend()\n",
    "\n",
    "# show plot\n",
    "plt.show()"
   ]
  },
  {
   "cell_type": "markdown",
   "id": "abad5a60",
   "metadata": {},
   "source": [
    "##### Model summary and performance successes / downfalls"
   ]
  },
  {
   "cell_type": "markdown",
   "id": "c472e0e1",
   "metadata": {},
   "source": [
    "Prophet is a user-friendly and easily implemented model for time series data which can automatically handles non-linear trends including seasonality, as mentioned earlier. However, it may not be effective for patterns which are too complex or irregular.\n",
    "\n",
    "Applying Prophet here gives a rather significant test MAPE score of about 10.9, which is even higher than that of the earlier XGBoost model. Plotting the predicted values against the true (test) values reveals that while the model is able to produce predictions which closely follow the minor fluctuations, it was unable to react to the sudden drastic decrease and continued to predict an increasing trend with the same set of minor fluctuations for each year. This finding concurs with the earlier point that Prophet is unable to handle patterns which are inrregular in nature such as the sudden drop seen here."
   ]
  },
  {
   "cell_type": "markdown",
   "id": "0890eb97",
   "metadata": {},
   "source": [
    "## 3.3 Modeling (Part 2)"
   ]
  },
  {
   "cell_type": "markdown",
   "id": "bcb09ebf",
   "metadata": {},
   "source": [
    "All of the above 3 models performed consistently badly on the test set and this could be attributed to the fact that the data in the train set are relatively stable in nature while the data in the test set contain drastic drops due to the halt in air travel during the pandemic which is a sudden and unexpected occurence. Such drastic fluctuations could potentially affect modeling accuracy significantly and lead to challenges in model tuning and objective assessments of different models' performances.\n",
    "\n",
    "To facilitate objective assessment of the model's performance, the time series data to be used in this second run would be truncated to only retain data before the halt in air travel in 2020."
   ]
  },
  {
   "cell_type": "code",
   "execution_count": 39,
   "id": "260c5150",
   "metadata": {
    "scrolled": true
   },
   "outputs": [
    {
     "data": {
      "text/plain": [
       "month\n",
       "2019-12    6414495\n",
       "2020-01    5950940\n",
       "2020-02    3446022\n",
       "2020-03    1649662\n",
       "2020-04      25189\n",
       "2020-05      24504\n",
       "Name: total_passengers, dtype: int64"
      ]
     },
     "execution_count": 39,
     "metadata": {},
     "output_type": "execute_result"
    }
   ],
   "source": [
    "# check for month in which the drastic drop in passenger traffic occurred\n",
    "check_month = ['2019-12', '2020-01', '2020-02', '2020-03', '2020-04', '2020-05']\n",
    "\n",
    "mod_pax_traffic[mod_pax_traffic.index.isin(check_month)]['total_passengers']"
   ]
  },
  {
   "cell_type": "markdown",
   "id": "d04c0b6e",
   "metadata": {},
   "source": [
    "From the above filtered data, a steady decline in passenger traffic can be observed from December 2019 to March 2020 before a drastic decline in April 2020. This coincides with the implementation of circuit breaker restrictions in Singapore on 7 April 2020 in an attempt to control the spread of the virus [[1]](https://www.straitstimes.com/singapore/health/two-years-after-covid-19-circuit-breaker-spore-in-better-shape-but-not-out-of-the-woods-pm-lee). Thus, the time series data shall be truncated up till March 2020 for the second run of modeling."
   ]
  },
  {
   "cell_type": "markdown",
   "id": "84eb8210",
   "metadata": {},
   "source": [
    "### 3.3.1 Linear regression"
   ]
  },
  {
   "cell_type": "code",
   "execution_count": 40,
   "id": "49d09409",
   "metadata": {
    "scrolled": true
   },
   "outputs": [
    {
     "data": {
      "text/html": [
       "<div>\n",
       "<style scoped>\n",
       "    .dataframe tbody tr th:only-of-type {\n",
       "        vertical-align: middle;\n",
       "    }\n",
       "\n",
       "    .dataframe tbody tr th {\n",
       "        vertical-align: top;\n",
       "    }\n",
       "\n",
       "    .dataframe thead th {\n",
       "        text-align: right;\n",
       "    }\n",
       "</style>\n",
       "<table border=\"1\" class=\"dataframe\">\n",
       "  <thead>\n",
       "    <tr style=\"text-align: right;\">\n",
       "      <th></th>\n",
       "      <th>total_passengers</th>\n",
       "      <th>diff_1</th>\n",
       "      <th>lag_12</th>\n",
       "    </tr>\n",
       "    <tr>\n",
       "      <th>month</th>\n",
       "      <th></th>\n",
       "      <th></th>\n",
       "      <th></th>\n",
       "    </tr>\n",
       "  </thead>\n",
       "  <tbody>\n",
       "    <tr>\n",
       "      <th>2019-11</th>\n",
       "      <td>5718386</td>\n",
       "      <td>71743.0</td>\n",
       "      <td>5408993.0</td>\n",
       "    </tr>\n",
       "    <tr>\n",
       "      <th>2019-12</th>\n",
       "      <td>6414495</td>\n",
       "      <td>696109.0</td>\n",
       "      <td>6127843.0</td>\n",
       "    </tr>\n",
       "    <tr>\n",
       "      <th>2020-01</th>\n",
       "      <td>5950940</td>\n",
       "      <td>-463555.0</td>\n",
       "      <td>5656076.0</td>\n",
       "    </tr>\n",
       "    <tr>\n",
       "      <th>2020-02</th>\n",
       "      <td>3446022</td>\n",
       "      <td>-2504918.0</td>\n",
       "      <td>5131807.0</td>\n",
       "    </tr>\n",
       "    <tr>\n",
       "      <th>2020-03</th>\n",
       "      <td>1649662</td>\n",
       "      <td>-1796360.0</td>\n",
       "      <td>5630780.0</td>\n",
       "    </tr>\n",
       "  </tbody>\n",
       "</table>\n",
       "</div>"
      ],
      "text/plain": [
       "         total_passengers     diff_1     lag_12\n",
       "month                                          \n",
       "2019-11           5718386    71743.0  5408993.0\n",
       "2019-12           6414495   696109.0  6127843.0\n",
       "2020-01           5950940  -463555.0  5656076.0\n",
       "2020-02           3446022 -2504918.0  5131807.0\n",
       "2020-03           1649662 -1796360.0  5630780.0"
      ]
     },
     "execution_count": 40,
     "metadata": {},
     "output_type": "execute_result"
    }
   ],
   "source": [
    "# remove last 37 rows of data\n",
    "mod_pax_traffic_v1 = mod_pax_traffic.drop(mod_pax_traffic.index[-37:])\n",
    "\n",
    "mod_pax_traffic_v1.tail()"
   ]
  },
  {
   "cell_type": "code",
   "execution_count": 41,
   "id": "5c9dac46",
   "metadata": {},
   "outputs": [],
   "source": [
    "# train-test split\n",
    "# calculate the index for splitting\n",
    "split_index_1 = int(len(mod_pax_traffic_v1) * 0.7)\n",
    "\n",
    "# split the sorted data into train and test sets\n",
    "train_data_1 = mod_pax_traffic_v1.iloc[:split_index_1]\n",
    "test_data_1 = mod_pax_traffic_v1.iloc[split_index_1:]\n",
    "\n",
    "# separate features and target variable\n",
    "X1_train = train_data_1.drop(columns = ['total_passengers'])\n",
    "y1_train = train_data_1['total_passengers']\n",
    "\n",
    "X1_test = test_data_1.drop(columns = ['total_passengers'])\n",
    "y1_test = test_data_1['total_passengers']"
   ]
  },
  {
   "cell_type": "code",
   "execution_count": 42,
   "id": "c9e4a955",
   "metadata": {},
   "outputs": [
    {
     "name": "stdout",
     "output_type": "stream",
     "text": [
      "MAPE (train): 0.07386472151155024\n",
      "MAPE (test): 0.0731188312137866\n"
     ]
    }
   ],
   "source": [
    "# instantiate\n",
    "lr_1 = LinearRegression()\n",
    "\n",
    "# fit model\n",
    "lr_1.fit(X1_train, y1_train)\n",
    "\n",
    "# predict on test\n",
    "y1_pred_lr = lr_1.predict(X1_test)\n",
    "\n",
    "# MAPE on train\n",
    "mape_train_lr_1 = cross_val_score(lr_1, \n",
    "                           X1_train, \n",
    "                           y1_train, \n",
    "                           cv = 5, \n",
    "                           scoring = 'neg_mean_absolute_percentage_error')\n",
    "\n",
    "# MAPE on test\n",
    "mape_test_lr_1 = np.mean(np.abs((y1_test - y1_pred_lr) / y1_test))\n",
    "\n",
    "print(f'MAPE (train): {np.mean(np.abs(mape_train_lr_1))}')\n",
    "print(f'MAPE (test): {np.mean(mape_test_lr_1)}')"
   ]
  },
  {
   "cell_type": "code",
   "execution_count": 43,
   "id": "d3a15112",
   "metadata": {},
   "outputs": [
    {
     "data": {
      "text/html": [
       "<div>\n",
       "<style scoped>\n",
       "    .dataframe tbody tr th:only-of-type {\n",
       "        vertical-align: middle;\n",
       "    }\n",
       "\n",
       "    .dataframe tbody tr th {\n",
       "        vertical-align: top;\n",
       "    }\n",
       "\n",
       "    .dataframe thead th {\n",
       "        text-align: right;\n",
       "    }\n",
       "</style>\n",
       "<table border=\"1\" class=\"dataframe\">\n",
       "  <thead>\n",
       "    <tr style=\"text-align: right;\">\n",
       "      <th></th>\n",
       "      <th>Feature</th>\n",
       "      <th>Coefficient</th>\n",
       "    </tr>\n",
       "  </thead>\n",
       "  <tbody>\n",
       "    <tr>\n",
       "      <th>0</th>\n",
       "      <td>diff_1</td>\n",
       "      <td>0.211390</td>\n",
       "    </tr>\n",
       "    <tr>\n",
       "      <th>1</th>\n",
       "      <td>lag_12</td>\n",
       "      <td>0.955385</td>\n",
       "    </tr>\n",
       "  </tbody>\n",
       "</table>\n",
       "</div>"
      ],
      "text/plain": [
       "  Feature  Coefficient\n",
       "0  diff_1     0.211390\n",
       "1  lag_12     0.955385"
      ]
     },
     "execution_count": 43,
     "metadata": {},
     "output_type": "execute_result"
    }
   ],
   "source": [
    "# create df to store coefficients\n",
    "lr_1_coef = pd.DataFrame({'Feature': X1_train.columns, 'Coefficient': lr_1.coef_})\n",
    "\n",
    "lr_1_coef"
   ]
  },
  {
   "cell_type": "code",
   "execution_count": 44,
   "id": "61364486",
   "metadata": {},
   "outputs": [
    {
     "data": {
      "image/png": "[encoded data removed]",
      "text/plain": [
       "<Figure size 720x576 with 1 Axes>"
      ]
     },
     "metadata": {
      "needs_background": "light"
     },
     "output_type": "display_data"
    }
   ],
   "source": [
    "# plot testing data against predictions\n",
    "# convert index to datetime objects\n",
    "y1_test.index = pd.to_datetime(y1_test.index)\n",
    "\n",
    "# set figure size and create subplot\n",
    "plt.figure(figsize = (10, 8))\n",
    "ax = plt.subplot()\n",
    "\n",
    "# plot test data\n",
    "sns.lineplot(x = y1_test.index, y = y1_test, label = 'y_test', ax = ax)\n",
    "\n",
    "# plot predictions\n",
    "sns.lineplot(x = y1_test.index, y = y1_pred_lr, label = 'y_pred', ax = ax)\n",
    "\n",
    "# title and labels\n",
    "plt.title('Linear Regression Predictions')\n",
    "plt.xlabel('Year')\n",
    "plt.ylabel('Passenger Numbers')\n",
    "\n",
    "# legend\n",
    "plt.legend()\n",
    "\n",
    "# show plot\n",
    "plt.show()"
   ]
  },
  {
   "cell_type": "markdown",
   "id": "ccd1332a",
   "metadata": {},
   "source": [
    "#### Check assumptions (L, I, N, E, M)"
   ]
  },
  {
   "cell_type": "markdown",
   "id": "eff899ce",
   "metadata": {},
   "source": [
    "i. Linearity"
   ]
  },
  {
   "cell_type": "code",
   "execution_count": 45,
   "id": "3d3371d9",
   "metadata": {
    "scrolled": true
   },
   "outputs": [
    {
     "data": {
      "image/png": "[encoded data removed]",
      "text/plain": [
       "<Figure size 432x288 with 1 Axes>"
      ]
     },
     "metadata": {
      "needs_background": "light"
     },
     "output_type": "display_data"
    },
    {
     "data": {
      "image/png": "[encoded data removed]",
      "text/plain": [
       "<Figure size 432x288 with 1 Axes>"
      ]
     },
     "metadata": {
      "needs_background": "light"
     },
     "output_type": "display_data"
    }
   ],
   "source": [
    "for col in mod_pax_traffic_v1.iloc[:,1:3].columns:\n",
    "    plt.title(f'total_passengers against {col}')\n",
    "    plt.scatter(mod_pax_traffic_v1[col], mod_pax_traffic_v1['total_passengers'], s = 1)\n",
    "    plt.show()"
   ]
  },
  {
   "cell_type": "markdown",
   "id": "6216d0d0",
   "metadata": {},
   "source": [
    "Similar to the earlier linear regression model, linear relationship can only be observed with the feature 'lag_12'."
   ]
  },
  {
   "cell_type": "markdown",
   "id": "d36b01bc",
   "metadata": {},
   "source": [
    "ii. Independence"
   ]
  },
  {
   "cell_type": "markdown",
   "id": "230b5c50",
   "metadata": {},
   "source": [
    "This assumption has been satisfied based on the earlier assumption check under Section 3.2.1."
   ]
  },
  {
   "cell_type": "markdown",
   "id": "9e95f27f",
   "metadata": {},
   "source": [
    "iii. Normality of errors"
   ]
  },
  {
   "cell_type": "code",
   "execution_count": 46,
   "id": "d93a4624",
   "metadata": {
    "scrolled": true
   },
   "outputs": [
    {
     "data": {
      "image/png": "[encoded data removed]",
      "text/plain": [
       "<Figure size 432x288 with 1 Axes>"
      ]
     },
     "metadata": {
      "needs_background": "light"
     },
     "output_type": "display_data"
    }
   ],
   "source": [
    "resid_1 = y1_pred_lr - y1_test\n",
    "plt.hist(resid_1, bins = 50)\n",
    "\n",
    "plt.show()"
   ]
  },
  {
   "cell_type": "markdown",
   "id": "58f3c7f8",
   "metadata": {},
   "source": [
    "Based on the above histogram, it is observed that errors are not normally distributed."
   ]
  },
  {
   "cell_type": "markdown",
   "id": "7a313d15",
   "metadata": {},
   "source": [
    "iv. Equal variance of errors"
   ]
  },
  {
   "cell_type": "code",
   "execution_count": 47,
   "id": "72b5d534",
   "metadata": {
    "scrolled": true
   },
   "outputs": [
    {
     "data": {
      "image/png": "[encoded data removed]",
      "text/plain": [
       "<Figure size 432x288 with 1 Axes>"
      ]
     },
     "metadata": {
      "needs_background": "light"
     },
     "output_type": "display_data"
    }
   ],
   "source": [
    "plt.scatter(y1_pred_lr, resid_1, s = 1)\n",
    "plt.axhline(0, color = 'orange')\n",
    "\n",
    "plt.show()"
   ]
  },
  {
   "cell_type": "markdown",
   "id": "65dd5191",
   "metadata": {},
   "source": [
    "Based on the above scatterplot, the residuals are mostly negative with only a few outliers."
   ]
  },
  {
   "cell_type": "markdown",
   "id": "13e82009",
   "metadata": {},
   "source": [
    "v. Multicollinearity"
   ]
  },
  {
   "cell_type": "code",
   "execution_count": 48,
   "id": "ad9955f5",
   "metadata": {},
   "outputs": [
    {
     "data": {
      "text/plain": [
       "Series([], dtype: bool)"
      ]
     },
     "execution_count": 48,
     "metadata": {},
     "output_type": "execute_result"
    }
   ],
   "source": [
    "corr_matrix_1 = X1_train.corr()\n",
    "high_corr_1 = ((corr_matrix_1 > 0.7) & (corr_matrix_1 < 1)).any()\n",
    "\n",
    "# filter out False observations\n",
    "high_corr_true_1 = high_corr_1[high_corr_1 == True]\n",
    "\n",
    "high_corr_true_1"
   ]
  },
  {
   "cell_type": "markdown",
   "id": "e30ec9f7",
   "metadata": {},
   "source": [
    "The two features are not highly correlated with each other."
   ]
  },
  {
   "cell_type": "markdown",
   "id": "ab4e96fc",
   "metadata": {},
   "source": [
    "##### Model summary and performance successes / downfalls"
   ]
  },
  {
   "cell_type": "markdown",
   "id": "fc977cd4",
   "metadata": {},
   "source": [
    "When applying the linear regression model on the truncated dataset, it becomes apparent that there is a vast improvement in the model's accuracy based on the MAPE scores of about 0.074 and 0.073 for train and test respectively. The difference between the train and test scores and relatively small and is thus, indicative of the model's positive performance. A review of the plot of predicted values against the true (test) values also supports this conclusion as the predictions are able to trace the patterns of the true values relatively well."
   ]
  },
  {
   "cell_type": "markdown",
   "id": "a94bd24e",
   "metadata": {},
   "source": [
    "### 3.3.2 XGBoost"
   ]
  },
  {
   "cell_type": "code",
   "execution_count": 49,
   "id": "6ee12e0a",
   "metadata": {},
   "outputs": [
    {
     "name": "stdout",
     "output_type": "stream",
     "text": [
      "MAPE (train): 0.1858711552411127\n",
      "MAPE (test): 0.19786479057118825\n"
     ]
    }
   ],
   "source": [
    "# instantiate\n",
    "xgb_1 = XGBRegressor(n_estimators = 50, max_depth = 10)\n",
    "\n",
    "# fit on train\n",
    "xgb_1.fit(X1_train, y1_train)\n",
    "\n",
    "# predict on test\n",
    "y1_pred_xgb = xgb_1.predict(X1_test)\n",
    "\n",
    "# MAPE on train\n",
    "mape_train_xgb_1 = cross_val_score(xgb_1, \n",
    "                           X1_train, \n",
    "                           y1_train, \n",
    "                           cv = 5, \n",
    "                           scoring = 'neg_mean_absolute_percentage_error')\n",
    "\n",
    "# MAPE on test\n",
    "mape_test_xgb_1 = np.mean(np.abs((y1_test - y1_pred_xgb) / y1_test))\n",
    "\n",
    "print(f'MAPE (train): {np.mean(np.abs(mape_train_xgb_1))}')\n",
    "print(f'MAPE (test): {np.mean(mape_test_xgb_1)}')"
   ]
  },
  {
   "cell_type": "code",
   "execution_count": 50,
   "id": "b06f9b83",
   "metadata": {},
   "outputs": [
    {
     "data": {
      "image/png": "[encoded data removed]",
      "text/plain": [
       "<Figure size 720x576 with 1 Axes>"
      ]
     },
     "metadata": {
      "needs_background": "light"
     },
     "output_type": "display_data"
    }
   ],
   "source": [
    "# plot testing data against predictions\n",
    "# set figure size and create subplot\n",
    "plt.figure(figsize = (10, 8))\n",
    "ax = plt.subplot()\n",
    "\n",
    "# plot test data\n",
    "sns.lineplot(x = y1_test.index, y = y1_test, label = 'y_test', ax = ax)\n",
    "\n",
    "# plot predictions\n",
    "sns.lineplot(x = y1_test.index, y = y1_pred_xgb, label = 'y_pred', ax = ax)\n",
    "\n",
    "# title and labels\n",
    "plt.title('XGBoost Predictions')\n",
    "plt.xlabel('Year')\n",
    "plt.ylabel('Passenger Numbers')\n",
    "\n",
    "# legend\n",
    "plt.legend()\n",
    "\n",
    "# show plot\n",
    "plt.show()"
   ]
  },
  {
   "cell_type": "markdown",
   "id": "05d6cb74",
   "metadata": {},
   "source": [
    "##### Model summary and performance successes / downfalls"
   ]
  },
  {
   "cell_type": "markdown",
   "id": "39963230",
   "metadata": {},
   "source": [
    "While the train MAPE score is relatively similar with the earlier XGBoost run in Section 3.2.2, this model performs significantly better on the test set with a test MAPE score of about 0.20. However, it remains inferior when compared to the earlier linear regression run due to its significantly higher test MAPE score.\n",
    "\n",
    "By plotting the predictions against the true (test) values, it becomes visually apparent that the model managed to capture some of the fluctuations in the predictions but failed to capture the general increasing trend despite being fed a truncated dataset and thereby contributing to the rather significant MAPE test score. Thus, it may be concluded that a decision tree-based model may not be suitable for time series forecasting."
   ]
  },
  {
   "cell_type": "markdown",
   "id": "66386f14",
   "metadata": {},
   "source": [
    "### 3.3.3 Prophet"
   ]
  },
  {
   "cell_type": "markdown",
   "id": "d2c50e44",
   "metadata": {},
   "source": [
    "Truncate dataset by removing the last 37 rows of data"
   ]
  },
  {
   "cell_type": "code",
   "execution_count": 51,
   "id": "05ba4d51",
   "metadata": {
    "scrolled": true
   },
   "outputs": [
    {
     "data": {
      "text/html": [
       "<div>\n",
       "<style scoped>\n",
       "    .dataframe tbody tr th:only-of-type {\n",
       "        vertical-align: middle;\n",
       "    }\n",
       "\n",
       "    .dataframe tbody tr th {\n",
       "        vertical-align: top;\n",
       "    }\n",
       "\n",
       "    .dataframe thead th {\n",
       "        text-align: right;\n",
       "    }\n",
       "</style>\n",
       "<table border=\"1\" class=\"dataframe\">\n",
       "  <thead>\n",
       "    <tr style=\"text-align: right;\">\n",
       "      <th></th>\n",
       "      <th>ds</th>\n",
       "      <th>y</th>\n",
       "    </tr>\n",
       "  </thead>\n",
       "  <tbody>\n",
       "    <tr>\n",
       "      <th>370</th>\n",
       "      <td>2019-11-01</td>\n",
       "      <td>5718386</td>\n",
       "    </tr>\n",
       "    <tr>\n",
       "      <th>371</th>\n",
       "      <td>2019-12-01</td>\n",
       "      <td>6414495</td>\n",
       "    </tr>\n",
       "    <tr>\n",
       "      <th>372</th>\n",
       "      <td>2020-01-01</td>\n",
       "      <td>5950940</td>\n",
       "    </tr>\n",
       "    <tr>\n",
       "      <th>373</th>\n",
       "      <td>2020-02-01</td>\n",
       "      <td>3446022</td>\n",
       "    </tr>\n",
       "    <tr>\n",
       "      <th>374</th>\n",
       "      <td>2020-03-01</td>\n",
       "      <td>1649662</td>\n",
       "    </tr>\n",
       "  </tbody>\n",
       "</table>\n",
       "</div>"
      ],
      "text/plain": [
       "            ds        y\n",
       "370 2019-11-01  5718386\n",
       "371 2019-12-01  6414495\n",
       "372 2020-01-01  5950940\n",
       "373 2020-02-01  3446022\n",
       "374 2020-03-01  1649662"
      ]
     },
     "execution_count": 51,
     "metadata": {},
     "output_type": "execute_result"
    }
   ],
   "source": [
    "pax_traffic_v1 = pax_traffic.drop(pax_traffic.index[-37:])\n",
    "\n",
    "pax_traffic_v1.tail()"
   ]
  },
  {
   "cell_type": "markdown",
   "id": "2dafefd7",
   "metadata": {},
   "source": [
    "Perform train-test split"
   ]
  },
  {
   "cell_type": "code",
   "execution_count": 52,
   "id": "19ba7758",
   "metadata": {},
   "outputs": [],
   "source": [
    "# define train size\n",
    "train_size_1 = int(0.7 * len(pax_traffic))\n",
    "\n",
    "# train-test split\n",
    "train_data_prop_1 = pax_traffic_v1[:train_size_1]\n",
    "test_data_prop_1 = pax_traffic_v1[train_size_1:]"
   ]
  },
  {
   "cell_type": "markdown",
   "id": "1fc6dc4b",
   "metadata": {},
   "source": [
    "Modeling"
   ]
  },
  {
   "cell_type": "code",
   "execution_count": 53,
   "id": "e65d4e17",
   "metadata": {},
   "outputs": [
    {
     "name": "stderr",
     "output_type": "stream",
     "text": [
      "15:20:09 - cmdstanpy - INFO - Chain [1] start processing\n",
      "15:20:09 - cmdstanpy - INFO - Chain [1] done processing\n"
     ]
    }
   ],
   "source": [
    "# instantiate\n",
    "prop_1 = Prophet()\n",
    "\n",
    "# fit on train\n",
    "prop_1.fit(train_data_prop_1)\n",
    "\n",
    "# predict on test\n",
    "future_1 = prop_1.make_future_dataframe(periods = len(test_data_prop_1), freq = 'MS')\n",
    "forecast_1 = prop_1.predict(future_1)"
   ]
  },
  {
   "cell_type": "code",
   "execution_count": 54,
   "id": "d69f8483",
   "metadata": {},
   "outputs": [],
   "source": [
    "# pred on test\n",
    "pred_values_1 = forecast_1[-len(test_data_prop_1):]['yhat']\n",
    "\n",
    "# actual values from test set\n",
    "actual_values_1 = test_data_prop['y']"
   ]
  },
  {
   "cell_type": "code",
   "execution_count": 55,
   "id": "ed73d7c9",
   "metadata": {},
   "outputs": [
    {
     "data": {
      "image/png": "[encoded data removed]",
      "text/plain": [
       "<Figure size 720x576 with 1 Axes>"
      ]
     },
     "metadata": {
      "needs_background": "light"
     },
     "output_type": "display_data"
    }
   ],
   "source": [
    "# plot testing data against predictions\n",
    "# set figure size and create subplot\n",
    "plt.figure(figsize = (10, 8))\n",
    "ax = plt.subplot()\n",
    "\n",
    "# plot test data\n",
    "sns.lineplot(x = test_data_prop_1['ds'], y = actual_values_1, label = 'y_test', ax = ax)\n",
    "\n",
    "# plot predictions\n",
    "sns.lineplot(x = test_data_prop_1['ds'], y = pred_values_1, label = 'y_pred', ax = ax)\n",
    "\n",
    "# title and labels\n",
    "plt.title('Prophet Predictions')\n",
    "plt.xlabel('Year')\n",
    "plt.ylabel('Passenger Numbers')\n",
    "\n",
    "# legend\n",
    "plt.legend()\n",
    "\n",
    "# show plot\n",
    "plt.show()"
   ]
  },
  {
   "cell_type": "code",
   "execution_count": 56,
   "id": "af7aae5f",
   "metadata": {},
   "outputs": [
    {
     "data": {
      "text/plain": [
       "0.0668282884832711"
      ]
     },
     "execution_count": 56,
     "metadata": {},
     "output_type": "execute_result"
    }
   ],
   "source": [
    "# calculate MAPE\n",
    "mape_prop_1 = calculate_mape(test_data_prop_1['y'], forecast_1[-len(test_data_prop_1):]['yhat'])\n",
    "\n",
    "mape_prop_1"
   ]
  },
  {
   "cell_type": "markdown",
   "id": "f149591d",
   "metadata": {},
   "source": [
    "##### Model summary and performance successes / downfalls"
   ]
  },
  {
   "cell_type": "markdown",
   "id": "83fa50b3",
   "metadata": {},
   "source": [
    "Similarly for Prophet, truncating the dataset to remove the irregularity has vastly improved the modeling outcome as the test MAPE score has been reduced to about 0.0668. The above plot also shows that the predictions are able to trace the actual test values relatively closely which further explains the low test MAPE score."
   ]
  },
  {
   "cell_type": "markdown",
   "id": "c50cc5fb",
   "metadata": {},
   "source": [
    "## 3.4 Selection of production model"
   ]
  },
  {
   "cell_type": "markdown",
   "id": "02cc0d57",
   "metadata": {},
   "source": [
    "Based on the modeling done in Sections 3.2 and 3.3, the performance of the models are summarised in the table below (MAPE scores are rounded to 3 significant figures).\n",
    "\n",
    "| |Linear Regression|XGBoost|Prophet|\n",
    "|:---|:---|:---|:---|\n",
    "|MAPE (Test, before truncating dataset)|8.59|7.36|10.9|\n",
    "|MAPE (Test, after truncating dataset)|0.0731|0.198|0.0668|\n",
    "\n",
    "In summary, we can see that all 3 models are badly affected by irregularities in the time series dataset. By truncating the dataset to artifically eliminate the irregularity and objectively assess the each model's performance, we find that the Prophet model has performed the best in view of its lowest test MAPE score of 0.0668. Thus, the Prophet model would be selected as the production model in this case."
   ]
  },
  {
   "cell_type": "markdown",
   "id": "a22b5336",
   "metadata": {},
   "source": [
    "### 3.4.1 Forecasting of air passenger traffic in mid-2030"
   ]
  },
  {
   "cell_type": "markdown",
   "id": "3bdd4706",
   "metadata": {},
   "source": [
    "The COVID-19 pandemic has left a lasting impact on air travel and has dampened the air passenger traffic significantly. As air travel demand returns in the midst of the pandemic's aftermath, air passenger traffic is expected to return to pre-pandemic level by 2024 [[2]](https://www.straitstimes.com/singapore/politics/passenger-traffic-at-changi-airport-expected-to-recover-fully-by-2024-or-possibly-earlier-iswaran#:~:text=Giving%20this%20update%20on%20Friday,recovered%20fully%20since%20January%202023.). Assuming that the increase in air passenger traffic follows the pre-pandemic trend, the traffic in mid-2030 could be estimated by assigning the early 2020 (pre-pandemic period) as January 2024 and by forecasting 78 months into the future to arrive at (pseudo) mid-2030 (i.e., June 2030)."
   ]
  },
  {
   "cell_type": "markdown",
   "id": "5d7e2c90",
   "metadata": {},
   "source": [
    "#### Forecasting using truncated data (assuming absence of COVID-19) "
   ]
  },
  {
   "cell_type": "code",
   "execution_count": 74,
   "id": "194b58df",
   "metadata": {},
   "outputs": [
    {
     "name": "stderr",
     "output_type": "stream",
     "text": [
      "16:36:17 - cmdstanpy - INFO - Chain [1] start processing\n",
      "16:36:17 - cmdstanpy - INFO - Chain [1] done processing\n"
     ]
    }
   ],
   "source": [
    "# instantiate\n",
    "prop_2 = Prophet()\n",
    "\n",
    "# fit on train\n",
    "prop_2.fit(pax_traffic_v1)\n",
    "\n",
    "# predict using Prophet\n",
    "future_v1 = prop_2.make_future_dataframe(periods = 78, freq = 'MS')\n",
    "forecast_v1 = prop_2.predict(future_v1)"
   ]
  },
  {
   "cell_type": "code",
   "execution_count": 75,
   "id": "3fe351e7",
   "metadata": {
    "scrolled": true
   },
   "outputs": [
    {
     "data": {
      "text/html": [
       "<div>\n",
       "<style scoped>\n",
       "    .dataframe tbody tr th:only-of-type {\n",
       "        vertical-align: middle;\n",
       "    }\n",
       "\n",
       "    .dataframe tbody tr th {\n",
       "        vertical-align: top;\n",
       "    }\n",
       "\n",
       "    .dataframe thead th {\n",
       "        text-align: right;\n",
       "    }\n",
       "</style>\n",
       "<table border=\"1\" class=\"dataframe\">\n",
       "  <thead>\n",
       "    <tr style=\"text-align: right;\">\n",
       "      <th></th>\n",
       "      <th>ds</th>\n",
       "      <th>trend</th>\n",
       "      <th>yhat_lower</th>\n",
       "      <th>yhat_upper</th>\n",
       "      <th>trend_lower</th>\n",
       "      <th>trend_upper</th>\n",
       "      <th>additive_terms</th>\n",
       "      <th>additive_terms_lower</th>\n",
       "      <th>additive_terms_upper</th>\n",
       "      <th>yearly</th>\n",
       "      <th>yearly_lower</th>\n",
       "      <th>yearly_upper</th>\n",
       "      <th>multiplicative_terms</th>\n",
       "      <th>multiplicative_terms_lower</th>\n",
       "      <th>multiplicative_terms_upper</th>\n",
       "      <th>yhat</th>\n",
       "    </tr>\n",
       "  </thead>\n",
       "  <tbody>\n",
       "    <tr>\n",
       "      <th>0</th>\n",
       "      <td>1989-01-01</td>\n",
       "      <td>1.138252e+06</td>\n",
       "      <td>8.483642e+05</td>\n",
       "      <td>1.604515e+06</td>\n",
       "      <td>1.138252e+06</td>\n",
       "      <td>1.138252e+06</td>\n",
       "      <td>81425.870351</td>\n",
       "      <td>81425.870351</td>\n",
       "      <td>81425.870351</td>\n",
       "      <td>81425.870351</td>\n",
       "      <td>81425.870351</td>\n",
       "      <td>81425.870351</td>\n",
       "      <td>0.0</td>\n",
       "      <td>0.0</td>\n",
       "      <td>0.0</td>\n",
       "      <td>1.219678e+06</td>\n",
       "    </tr>\n",
       "    <tr>\n",
       "      <th>1</th>\n",
       "      <td>1989-02-01</td>\n",
       "      <td>1.146802e+06</td>\n",
       "      <td>6.245048e+05</td>\n",
       "      <td>1.385087e+06</td>\n",
       "      <td>1.146802e+06</td>\n",
       "      <td>1.146802e+06</td>\n",
       "      <td>-139320.352328</td>\n",
       "      <td>-139320.352328</td>\n",
       "      <td>-139320.352328</td>\n",
       "      <td>-139320.352328</td>\n",
       "      <td>-139320.352328</td>\n",
       "      <td>-139320.352328</td>\n",
       "      <td>0.0</td>\n",
       "      <td>0.0</td>\n",
       "      <td>0.0</td>\n",
       "      <td>1.007482e+06</td>\n",
       "    </tr>\n",
       "    <tr>\n",
       "      <th>2</th>\n",
       "      <td>1989-03-01</td>\n",
       "      <td>1.154524e+06</td>\n",
       "      <td>6.596471e+05</td>\n",
       "      <td>1.395654e+06</td>\n",
       "      <td>1.154524e+06</td>\n",
       "      <td>1.154524e+06</td>\n",
       "      <td>-107406.481612</td>\n",
       "      <td>-107406.481612</td>\n",
       "      <td>-107406.481612</td>\n",
       "      <td>-107406.481612</td>\n",
       "      <td>-107406.481612</td>\n",
       "      <td>-107406.481612</td>\n",
       "      <td>0.0</td>\n",
       "      <td>0.0</td>\n",
       "      <td>0.0</td>\n",
       "      <td>1.047118e+06</td>\n",
       "    </tr>\n",
       "    <tr>\n",
       "      <th>3</th>\n",
       "      <td>1989-04-01</td>\n",
       "      <td>1.163074e+06</td>\n",
       "      <td>7.543282e+05</td>\n",
       "      <td>1.558599e+06</td>\n",
       "      <td>1.163074e+06</td>\n",
       "      <td>1.163074e+06</td>\n",
       "      <td>-8458.998748</td>\n",
       "      <td>-8458.998748</td>\n",
       "      <td>-8458.998748</td>\n",
       "      <td>-8458.998748</td>\n",
       "      <td>-8458.998748</td>\n",
       "      <td>-8458.998748</td>\n",
       "      <td>0.0</td>\n",
       "      <td>0.0</td>\n",
       "      <td>0.0</td>\n",
       "      <td>1.154615e+06</td>\n",
       "    </tr>\n",
       "    <tr>\n",
       "      <th>4</th>\n",
       "      <td>1989-05-01</td>\n",
       "      <td>1.171348e+06</td>\n",
       "      <td>7.722395e+05</td>\n",
       "      <td>1.467995e+06</td>\n",
       "      <td>1.171348e+06</td>\n",
       "      <td>1.171348e+06</td>\n",
       "      <td>-51727.924327</td>\n",
       "      <td>-51727.924327</td>\n",
       "      <td>-51727.924327</td>\n",
       "      <td>-51727.924327</td>\n",
       "      <td>-51727.924327</td>\n",
       "      <td>-51727.924327</td>\n",
       "      <td>0.0</td>\n",
       "      <td>0.0</td>\n",
       "      <td>0.0</td>\n",
       "      <td>1.119620e+06</td>\n",
       "    </tr>\n",
       "    <tr>\n",
       "      <th>...</th>\n",
       "      <td>...</td>\n",
       "      <td>...</td>\n",
       "      <td>...</td>\n",
       "      <td>...</td>\n",
       "      <td>...</td>\n",
       "      <td>...</td>\n",
       "      <td>...</td>\n",
       "      <td>...</td>\n",
       "      <td>...</td>\n",
       "      <td>...</td>\n",
       "      <td>...</td>\n",
       "      <td>...</td>\n",
       "      <td>...</td>\n",
       "      <td>...</td>\n",
       "      <td>...</td>\n",
       "      <td>...</td>\n",
       "    </tr>\n",
       "    <tr>\n",
       "      <th>448</th>\n",
       "      <td>2026-05-01</td>\n",
       "      <td>6.866700e+06</td>\n",
       "      <td>6.404435e+06</td>\n",
       "      <td>7.167732e+06</td>\n",
       "      <td>6.771534e+06</td>\n",
       "      <td>6.956130e+06</td>\n",
       "      <td>-93391.657745</td>\n",
       "      <td>-93391.657745</td>\n",
       "      <td>-93391.657745</td>\n",
       "      <td>-93391.657745</td>\n",
       "      <td>-93391.657745</td>\n",
       "      <td>-93391.657745</td>\n",
       "      <td>0.0</td>\n",
       "      <td>0.0</td>\n",
       "      <td>0.0</td>\n",
       "      <td>6.773308e+06</td>\n",
       "    </tr>\n",
       "    <tr>\n",
       "      <th>449</th>\n",
       "      <td>2026-06-01</td>\n",
       "      <td>6.884140e+06</td>\n",
       "      <td>6.596329e+06</td>\n",
       "      <td>7.350348e+06</td>\n",
       "      <td>6.787249e+06</td>\n",
       "      <td>6.976017e+06</td>\n",
       "      <td>114541.303976</td>\n",
       "      <td>114541.303976</td>\n",
       "      <td>114541.303976</td>\n",
       "      <td>114541.303976</td>\n",
       "      <td>114541.303976</td>\n",
       "      <td>114541.303976</td>\n",
       "      <td>0.0</td>\n",
       "      <td>0.0</td>\n",
       "      <td>0.0</td>\n",
       "      <td>6.998681e+06</td>\n",
       "    </tr>\n",
       "    <tr>\n",
       "      <th>450</th>\n",
       "      <td>2026-07-01</td>\n",
       "      <td>6.901018e+06</td>\n",
       "      <td>6.702444e+06</td>\n",
       "      <td>7.476056e+06</td>\n",
       "      <td>6.802211e+06</td>\n",
       "      <td>6.995133e+06</td>\n",
       "      <td>182041.189136</td>\n",
       "      <td>182041.189136</td>\n",
       "      <td>182041.189136</td>\n",
       "      <td>182041.189136</td>\n",
       "      <td>182041.189136</td>\n",
       "      <td>182041.189136</td>\n",
       "      <td>0.0</td>\n",
       "      <td>0.0</td>\n",
       "      <td>0.0</td>\n",
       "      <td>7.083059e+06</td>\n",
       "    </tr>\n",
       "    <tr>\n",
       "      <th>451</th>\n",
       "      <td>2026-08-01</td>\n",
       "      <td>6.918458e+06</td>\n",
       "      <td>6.708676e+06</td>\n",
       "      <td>7.445800e+06</td>\n",
       "      <td>6.817953e+06</td>\n",
       "      <td>7.015386e+06</td>\n",
       "      <td>161611.153391</td>\n",
       "      <td>161611.153391</td>\n",
       "      <td>161611.153391</td>\n",
       "      <td>161611.153391</td>\n",
       "      <td>161611.153391</td>\n",
       "      <td>161611.153391</td>\n",
       "      <td>0.0</td>\n",
       "      <td>0.0</td>\n",
       "      <td>0.0</td>\n",
       "      <td>7.080069e+06</td>\n",
       "    </tr>\n",
       "    <tr>\n",
       "      <th>452</th>\n",
       "      <td>2026-09-01</td>\n",
       "      <td>6.935898e+06</td>\n",
       "      <td>6.479414e+06</td>\n",
       "      <td>7.266503e+06</td>\n",
       "      <td>6.833033e+06</td>\n",
       "      <td>7.035311e+06</td>\n",
       "      <td>-60961.508299</td>\n",
       "      <td>-60961.508299</td>\n",
       "      <td>-60961.508299</td>\n",
       "      <td>-60961.508299</td>\n",
       "      <td>-60961.508299</td>\n",
       "      <td>-60961.508299</td>\n",
       "      <td>0.0</td>\n",
       "      <td>0.0</td>\n",
       "      <td>0.0</td>\n",
       "      <td>6.874936e+06</td>\n",
       "    </tr>\n",
       "  </tbody>\n",
       "</table>\n",
       "<p>453 rows × 16 columns</p>\n",
       "</div>"
      ],
      "text/plain": [
       "            ds         trend    yhat_lower    yhat_upper   trend_lower  \\\n",
       "0   1989-01-01  1.138252e+06  8.483642e+05  1.604515e+06  1.138252e+06   \n",
       "1   1989-02-01  1.146802e+06  6.245048e+05  1.385087e+06  1.146802e+06   \n",
       "2   1989-03-01  1.154524e+06  6.596471e+05  1.395654e+06  1.154524e+06   \n",
       "3   1989-04-01  1.163074e+06  7.543282e+05  1.558599e+06  1.163074e+06   \n",
       "4   1989-05-01  1.171348e+06  7.722395e+05  1.467995e+06  1.171348e+06   \n",
       "..         ...           ...           ...           ...           ...   \n",
       "448 2026-05-01  6.866700e+06  6.404435e+06  7.167732e+06  6.771534e+06   \n",
       "449 2026-06-01  6.884140e+06  6.596329e+06  7.350348e+06  6.787249e+06   \n",
       "450 2026-07-01  6.901018e+06  6.702444e+06  7.476056e+06  6.802211e+06   \n",
       "451 2026-08-01  6.918458e+06  6.708676e+06  7.445800e+06  6.817953e+06   \n",
       "452 2026-09-01  6.935898e+06  6.479414e+06  7.266503e+06  6.833033e+06   \n",
       "\n",
       "      trend_upper  additive_terms  additive_terms_lower  additive_terms_upper  \\\n",
       "0    1.138252e+06    81425.870351          81425.870351          81425.870351   \n",
       "1    1.146802e+06  -139320.352328        -139320.352328        -139320.352328   \n",
       "2    1.154524e+06  -107406.481612        -107406.481612        -107406.481612   \n",
       "3    1.163074e+06    -8458.998748          -8458.998748          -8458.998748   \n",
       "4    1.171348e+06   -51727.924327         -51727.924327         -51727.924327   \n",
       "..            ...             ...                   ...                   ...   \n",
       "448  6.956130e+06   -93391.657745         -93391.657745         -93391.657745   \n",
       "449  6.976017e+06   114541.303976         114541.303976         114541.303976   \n",
       "450  6.995133e+06   182041.189136         182041.189136         182041.189136   \n",
       "451  7.015386e+06   161611.153391         161611.153391         161611.153391   \n",
       "452  7.035311e+06   -60961.508299         -60961.508299         -60961.508299   \n",
       "\n",
       "            yearly   yearly_lower   yearly_upper  multiplicative_terms  \\\n",
       "0     81425.870351   81425.870351   81425.870351                   0.0   \n",
       "1   -139320.352328 -139320.352328 -139320.352328                   0.0   \n",
       "2   -107406.481612 -107406.481612 -107406.481612                   0.0   \n",
       "3     -8458.998748   -8458.998748   -8458.998748                   0.0   \n",
       "4    -51727.924327  -51727.924327  -51727.924327                   0.0   \n",
       "..             ...            ...            ...                   ...   \n",
       "448  -93391.657745  -93391.657745  -93391.657745                   0.0   \n",
       "449  114541.303976  114541.303976  114541.303976                   0.0   \n",
       "450  182041.189136  182041.189136  182041.189136                   0.0   \n",
       "451  161611.153391  161611.153391  161611.153391                   0.0   \n",
       "452  -60961.508299  -60961.508299  -60961.508299                   0.0   \n",
       "\n",
       "     multiplicative_terms_lower  multiplicative_terms_upper          yhat  \n",
       "0                           0.0                         0.0  1.219678e+06  \n",
       "1                           0.0                         0.0  1.007482e+06  \n",
       "2                           0.0                         0.0  1.047118e+06  \n",
       "3                           0.0                         0.0  1.154615e+06  \n",
       "4                           0.0                         0.0  1.119620e+06  \n",
       "..                          ...                         ...           ...  \n",
       "448                         0.0                         0.0  6.773308e+06  \n",
       "449                         0.0                         0.0  6.998681e+06  \n",
       "450                         0.0                         0.0  7.083059e+06  \n",
       "451                         0.0                         0.0  7.080069e+06  \n",
       "452                         0.0                         0.0  6.874936e+06  \n",
       "\n",
       "[453 rows x 16 columns]"
      ]
     },
     "execution_count": 75,
     "metadata": {},
     "output_type": "execute_result"
    }
   ],
   "source": [
    "forecast_v1"
   ]
  },
  {
   "cell_type": "markdown",
   "id": "07269685",
   "metadata": {},
   "source": [
    "The forecasted air passenger traffic in (pseudo) June 2030 would reach 6,874,936 and this leads to an estimated annual number of 82,499,232 passengers passing through Changi Airport. With the completion of Terminal 5 in mid-2030, Changi Airport's total annual passenger handling capacity would be increased up to 135,000,000 [[3]](https://www.airport-technology.com/projects/terminal-5-changi-international-airport/). Thus, it can be concluded that Changi Airport would be well-equipped to handle the forecasted growth in air travel with the completion of Terminal 5 and with ample headroom for further growth."
   ]
  },
  {
   "cell_type": "markdown",
   "id": "2aa10610",
   "metadata": {},
   "source": [
    "### 3.4.2 Forecasting of air passenger traffic reaching 135 million"
   ]
  },
  {
   "cell_type": "markdown",
   "id": "a253e4f4",
   "metadata": {},
   "source": [
    "Assuming that the air passenger traffic remains on the increasing trend and the lack of external factors significantly affecting the traffic numbers, the same Prophet model could also be used to forecast when the traffic would outgrow the airport's passenger handling capacity.\n",
    "\n",
    "Based on the annual handling capacity of 135,000,000, an estimated 11,250,000 passengers would be handled by the airport on a monthly basis."
   ]
  },
  {
   "cell_type": "code",
   "execution_count": 72,
   "id": "b6de01cc",
   "metadata": {},
   "outputs": [],
   "source": [
    "# predict using Prophet\n",
    "future_v2 = prop_2.make_future_dataframe(periods = 325, freq = 'MS')\n",
    "forecast_v2 = prop_2.predict(future_v2)"
   ]
  },
  {
   "cell_type": "code",
   "execution_count": 73,
   "id": "715fcd7b",
   "metadata": {},
   "outputs": [
    {
     "data": {
      "text/html": [
       "<div>\n",
       "<style scoped>\n",
       "    .dataframe tbody tr th:only-of-type {\n",
       "        vertical-align: middle;\n",
       "    }\n",
       "\n",
       "    .dataframe tbody tr th {\n",
       "        vertical-align: top;\n",
       "    }\n",
       "\n",
       "    .dataframe thead th {\n",
       "        text-align: right;\n",
       "    }\n",
       "</style>\n",
       "<table border=\"1\" class=\"dataframe\">\n",
       "  <thead>\n",
       "    <tr style=\"text-align: right;\">\n",
       "      <th></th>\n",
       "      <th>ds</th>\n",
       "      <th>trend</th>\n",
       "      <th>yhat_lower</th>\n",
       "      <th>yhat_upper</th>\n",
       "      <th>trend_lower</th>\n",
       "      <th>trend_upper</th>\n",
       "      <th>additive_terms</th>\n",
       "      <th>additive_terms_lower</th>\n",
       "      <th>additive_terms_upper</th>\n",
       "      <th>yearly</th>\n",
       "      <th>yearly_lower</th>\n",
       "      <th>yearly_upper</th>\n",
       "      <th>multiplicative_terms</th>\n",
       "      <th>multiplicative_terms_lower</th>\n",
       "      <th>multiplicative_terms_upper</th>\n",
       "      <th>yhat</th>\n",
       "    </tr>\n",
       "  </thead>\n",
       "  <tbody>\n",
       "    <tr>\n",
       "      <th>690</th>\n",
       "      <td>2046-07-01</td>\n",
       "      <td>1.101069e+07</td>\n",
       "      <td>1.024693e+07</td>\n",
       "      <td>1.217994e+07</td>\n",
       "      <td>1.021533e+07</td>\n",
       "      <td>1.188014e+07</td>\n",
       "      <td>182041.189136</td>\n",
       "      <td>182041.189136</td>\n",
       "      <td>182041.189136</td>\n",
       "      <td>182041.189136</td>\n",
       "      <td>182041.189136</td>\n",
       "      <td>182041.189136</td>\n",
       "      <td>0.0</td>\n",
       "      <td>0.0</td>\n",
       "      <td>0.0</td>\n",
       "      <td>1.119273e+07</td>\n",
       "    </tr>\n",
       "    <tr>\n",
       "      <th>691</th>\n",
       "      <td>2046-08-01</td>\n",
       "      <td>1.102813e+07</td>\n",
       "      <td>1.027468e+07</td>\n",
       "      <td>1.215012e+07</td>\n",
       "      <td>1.022677e+07</td>\n",
       "      <td>1.190034e+07</td>\n",
       "      <td>161611.153391</td>\n",
       "      <td>161611.153391</td>\n",
       "      <td>161611.153391</td>\n",
       "      <td>161611.153391</td>\n",
       "      <td>161611.153391</td>\n",
       "      <td>161611.153391</td>\n",
       "      <td>0.0</td>\n",
       "      <td>0.0</td>\n",
       "      <td>0.0</td>\n",
       "      <td>1.118974e+07</td>\n",
       "    </tr>\n",
       "    <tr>\n",
       "      <th>692</th>\n",
       "      <td>2046-09-01</td>\n",
       "      <td>1.104557e+07</td>\n",
       "      <td>1.005966e+07</td>\n",
       "      <td>1.193509e+07</td>\n",
       "      <td>1.023978e+07</td>\n",
       "      <td>1.192194e+07</td>\n",
       "      <td>-60961.508299</td>\n",
       "      <td>-60961.508299</td>\n",
       "      <td>-60961.508299</td>\n",
       "      <td>-60961.508299</td>\n",
       "      <td>-60961.508299</td>\n",
       "      <td>-60961.508299</td>\n",
       "      <td>0.0</td>\n",
       "      <td>0.0</td>\n",
       "      <td>0.0</td>\n",
       "      <td>1.098461e+07</td>\n",
       "    </tr>\n",
       "    <tr>\n",
       "      <th>693</th>\n",
       "      <td>2046-10-01</td>\n",
       "      <td>1.106245e+07</td>\n",
       "      <td>1.015501e+07</td>\n",
       "      <td>1.204019e+07</td>\n",
       "      <td>1.025239e+07</td>\n",
       "      <td>1.194277e+07</td>\n",
       "      <td>19720.907329</td>\n",
       "      <td>19720.907329</td>\n",
       "      <td>19720.907329</td>\n",
       "      <td>19720.907329</td>\n",
       "      <td>19720.907329</td>\n",
       "      <td>19720.907329</td>\n",
       "      <td>0.0</td>\n",
       "      <td>0.0</td>\n",
       "      <td>0.0</td>\n",
       "      <td>1.108217e+07</td>\n",
       "    </tr>\n",
       "    <tr>\n",
       "      <th>694</th>\n",
       "      <td>2046-11-01</td>\n",
       "      <td>1.107989e+07</td>\n",
       "      <td>1.022711e+07</td>\n",
       "      <td>1.209410e+07</td>\n",
       "      <td>1.026463e+07</td>\n",
       "      <td>1.196389e+07</td>\n",
       "      <td>52671.672416</td>\n",
       "      <td>52671.672416</td>\n",
       "      <td>52671.672416</td>\n",
       "      <td>52671.672416</td>\n",
       "      <td>52671.672416</td>\n",
       "      <td>52671.672416</td>\n",
       "      <td>0.0</td>\n",
       "      <td>0.0</td>\n",
       "      <td>0.0</td>\n",
       "      <td>1.113256e+07</td>\n",
       "    </tr>\n",
       "    <tr>\n",
       "      <th>695</th>\n",
       "      <td>2046-12-01</td>\n",
       "      <td>1.109677e+07</td>\n",
       "      <td>1.056322e+07</td>\n",
       "      <td>1.252414e+07</td>\n",
       "      <td>1.027351e+07</td>\n",
       "      <td>1.198519e+07</td>\n",
       "      <td>433248.144756</td>\n",
       "      <td>433248.144756</td>\n",
       "      <td>433248.144756</td>\n",
       "      <td>433248.144756</td>\n",
       "      <td>433248.144756</td>\n",
       "      <td>433248.144756</td>\n",
       "      <td>0.0</td>\n",
       "      <td>0.0</td>\n",
       "      <td>0.0</td>\n",
       "      <td>1.153002e+07</td>\n",
       "    </tr>\n",
       "    <tr>\n",
       "      <th>696</th>\n",
       "      <td>2047-01-01</td>\n",
       "      <td>1.111421e+07</td>\n",
       "      <td>1.026165e+07</td>\n",
       "      <td>1.214982e+07</td>\n",
       "      <td>1.028351e+07</td>\n",
       "      <td>1.200690e+07</td>\n",
       "      <td>86870.095117</td>\n",
       "      <td>86870.095117</td>\n",
       "      <td>86870.095117</td>\n",
       "      <td>86870.095117</td>\n",
       "      <td>86870.095117</td>\n",
       "      <td>86870.095117</td>\n",
       "      <td>0.0</td>\n",
       "      <td>0.0</td>\n",
       "      <td>0.0</td>\n",
       "      <td>1.120108e+07</td>\n",
       "    </tr>\n",
       "    <tr>\n",
       "      <th>697</th>\n",
       "      <td>2047-02-01</td>\n",
       "      <td>1.113165e+07</td>\n",
       "      <td>9.939454e+06</td>\n",
       "      <td>1.188225e+07</td>\n",
       "      <td>1.029551e+07</td>\n",
       "      <td>1.202961e+07</td>\n",
       "      <td>-261005.834381</td>\n",
       "      <td>-261005.834381</td>\n",
       "      <td>-261005.834381</td>\n",
       "      <td>-261005.834381</td>\n",
       "      <td>-261005.834381</td>\n",
       "      <td>-261005.834381</td>\n",
       "      <td>0.0</td>\n",
       "      <td>0.0</td>\n",
       "      <td>0.0</td>\n",
       "      <td>1.087064e+07</td>\n",
       "    </tr>\n",
       "    <tr>\n",
       "      <th>698</th>\n",
       "      <td>2047-03-01</td>\n",
       "      <td>1.114740e+07</td>\n",
       "      <td>1.033216e+07</td>\n",
       "      <td>1.230456e+07</td>\n",
       "      <td>1.030696e+07</td>\n",
       "      <td>1.204901e+07</td>\n",
       "      <td>164079.497637</td>\n",
       "      <td>164079.497637</td>\n",
       "      <td>164079.497637</td>\n",
       "      <td>164079.497637</td>\n",
       "      <td>164079.497637</td>\n",
       "      <td>164079.497637</td>\n",
       "      <td>0.0</td>\n",
       "      <td>0.0</td>\n",
       "      <td>0.0</td>\n",
       "      <td>1.131148e+07</td>\n",
       "    </tr>\n",
       "    <tr>\n",
       "      <th>699</th>\n",
       "      <td>2047-04-01</td>\n",
       "      <td>1.116484e+07</td>\n",
       "      <td>1.008186e+07</td>\n",
       "      <td>1.202585e+07</td>\n",
       "      <td>1.031786e+07</td>\n",
       "      <td>1.207164e+07</td>\n",
       "      <td>-119650.451645</td>\n",
       "      <td>-119650.451645</td>\n",
       "      <td>-119650.451645</td>\n",
       "      <td>-119650.451645</td>\n",
       "      <td>-119650.451645</td>\n",
       "      <td>-119650.451645</td>\n",
       "      <td>0.0</td>\n",
       "      <td>0.0</td>\n",
       "      <td>0.0</td>\n",
       "      <td>1.104519e+07</td>\n",
       "    </tr>\n",
       "  </tbody>\n",
       "</table>\n",
       "</div>"
      ],
      "text/plain": [
       "            ds         trend    yhat_lower    yhat_upper   trend_lower  \\\n",
       "690 2046-07-01  1.101069e+07  1.024693e+07  1.217994e+07  1.021533e+07   \n",
       "691 2046-08-01  1.102813e+07  1.027468e+07  1.215012e+07  1.022677e+07   \n",
       "692 2046-09-01  1.104557e+07  1.005966e+07  1.193509e+07  1.023978e+07   \n",
       "693 2046-10-01  1.106245e+07  1.015501e+07  1.204019e+07  1.025239e+07   \n",
       "694 2046-11-01  1.107989e+07  1.022711e+07  1.209410e+07  1.026463e+07   \n",
       "695 2046-12-01  1.109677e+07  1.056322e+07  1.252414e+07  1.027351e+07   \n",
       "696 2047-01-01  1.111421e+07  1.026165e+07  1.214982e+07  1.028351e+07   \n",
       "697 2047-02-01  1.113165e+07  9.939454e+06  1.188225e+07  1.029551e+07   \n",
       "698 2047-03-01  1.114740e+07  1.033216e+07  1.230456e+07  1.030696e+07   \n",
       "699 2047-04-01  1.116484e+07  1.008186e+07  1.202585e+07  1.031786e+07   \n",
       "\n",
       "      trend_upper  additive_terms  additive_terms_lower  additive_terms_upper  \\\n",
       "690  1.188014e+07   182041.189136         182041.189136         182041.189136   \n",
       "691  1.190034e+07   161611.153391         161611.153391         161611.153391   \n",
       "692  1.192194e+07   -60961.508299         -60961.508299         -60961.508299   \n",
       "693  1.194277e+07    19720.907329          19720.907329          19720.907329   \n",
       "694  1.196389e+07    52671.672416          52671.672416          52671.672416   \n",
       "695  1.198519e+07   433248.144756         433248.144756         433248.144756   \n",
       "696  1.200690e+07    86870.095117          86870.095117          86870.095117   \n",
       "697  1.202961e+07  -261005.834381        -261005.834381        -261005.834381   \n",
       "698  1.204901e+07   164079.497637         164079.497637         164079.497637   \n",
       "699  1.207164e+07  -119650.451645        -119650.451645        -119650.451645   \n",
       "\n",
       "            yearly   yearly_lower   yearly_upper  multiplicative_terms  \\\n",
       "690  182041.189136  182041.189136  182041.189136                   0.0   \n",
       "691  161611.153391  161611.153391  161611.153391                   0.0   \n",
       "692  -60961.508299  -60961.508299  -60961.508299                   0.0   \n",
       "693   19720.907329   19720.907329   19720.907329                   0.0   \n",
       "694   52671.672416   52671.672416   52671.672416                   0.0   \n",
       "695  433248.144756  433248.144756  433248.144756                   0.0   \n",
       "696   86870.095117   86870.095117   86870.095117                   0.0   \n",
       "697 -261005.834381 -261005.834381 -261005.834381                   0.0   \n",
       "698  164079.497637  164079.497637  164079.497637                   0.0   \n",
       "699 -119650.451645 -119650.451645 -119650.451645                   0.0   \n",
       "\n",
       "     multiplicative_terms_lower  multiplicative_terms_upper          yhat  \n",
       "690                         0.0                         0.0  1.119273e+07  \n",
       "691                         0.0                         0.0  1.118974e+07  \n",
       "692                         0.0                         0.0  1.098461e+07  \n",
       "693                         0.0                         0.0  1.108217e+07  \n",
       "694                         0.0                         0.0  1.113256e+07  \n",
       "695                         0.0                         0.0  1.153002e+07  \n",
       "696                         0.0                         0.0  1.120108e+07  \n",
       "697                         0.0                         0.0  1.087064e+07  \n",
       "698                         0.0                         0.0  1.131148e+07  \n",
       "699                         0.0                         0.0  1.104519e+07  "
      ]
     },
     "execution_count": 73,
     "metadata": {},
     "output_type": "execute_result"
    }
   ],
   "source": [
    "forecast_v2.tail(10)"
   ]
  },
  {
   "cell_type": "markdown",
   "id": "ab2b543e",
   "metadata": {},
   "source": [
    "Based on the 'yhat' column of the forecast results, the monthly air passenger traffic would approach the maximum handling capacity from November 2046 onwards where the forecasted monthly traffic would reach 11,132,560. Since the early 2020 (pre-pandemic period) has been assigned as (pseudo) January 2024 to facilitate forecasting, November 2046 would thus translate to August 2049."
   ]
  },
  {
   "cell_type": "code",
   "execution_count": null,
   "id": "77cdfbe8",
   "metadata": {},
   "outputs": [],
   "source": []
  }
 ],
 "metadata": {
  "kernelspec": {
   "display_name": "Python 3",
   "language": "python",
   "name": "python3"
  },
  "language_info": {
   "codemirror_mode": {
    "name": "ipython",
    "version": 3
   },
   "file_extension": ".py",
   "mimetype": "text/x-python",
   "name": "python",
   "nbconvert_exporter": "python",
   "pygments_lexer": "ipython3",
   "version": "3.8.8"
  }
 },
 "nbformat": 4,
 "nbformat_minor": 5
}
