{
 "cells": [
  {
   "cell_type": "markdown",
   "id": "971a21ae",
   "metadata": {},
   "source": [
    "# 1. Project Overview"
   ]
  },
  {
   "cell_type": "markdown",
   "id": "96ee9563",
   "metadata": {},
   "source": [
    "## 1.1 Background"
   ]
  },
  {
   "cell_type": "markdown",
   "id": "e7969b7d",
   "metadata": {},
   "source": [
    "<img src=\"../images/layout-of-changi-airport.png\" alt=\"airport layout\" width=\"80%\" height=\"80%\"/>"
   ]
  },
  {
   "cell_type": "markdown",
   "id": "7ce7fe62",
   "metadata": {},
   "source": [
    "Changi Airport was first built with just one terminal and one runway and officially began operations on July 1981. The second runway was then built in 1983 and commissioned in the following year. As passenger traffic increased, Terminal 2 and Terminal 3 were built and opened in November 1990 and January 2007 respectively to cope with traffic. Amidst the rise in popularity of low-cost travel, the budget terminal began operations in 2006 but subsequently closed in 2012 and was replaced with Terminal 4 which opened in 2017 [[1]](https://biblioasia.nlb.gov.sg/vol-17/issue-3/oct-dec-2021/changi-airport/).\n",
    "\n",
    "Over the past 4 decades, passenger traffic continued to increase as air travel becomes increasingly prevalent and affordable due to the intense competition in the travel industry. To better meet the growing traffic and infrastructure needs, the plan for Terminal 5 was conceived and the construction is expected to begin in 2025 and eventually be completed in 2030. The addition of Terminal 5 is a monumental one as it marks the biggest expansion of the airport thus far, and it would be able to handle up to 50 million passengers annually in the initial phase of operations. Across all 5 terminals, the airport's total annual passenger handling capacity is expected to reach 135 million [[2]](https://www.airport-technology.com/projects/terminal-5-changi-international-airport/). This expansion of the airport is also part of the Changi East development which includes development of other areas such as landside and aviation support facilities and the Changi East Industrial Zone, to further strengthen Singapore's air hub status and its competitive edge."
   ]
  },
  {
   "cell_type": "markdown",
   "id": "934d1137",
   "metadata": {},
   "source": [
    "## 1.2 Problem Statement"
   ]
  },
  {
   "cell_type": "markdown",
   "id": "4785da6d",
   "metadata": {},
   "source": [
    "Changi Airport has been awarded with more than 660 “Best Airport” awards since it first opened and it was named the “world’s best airport” for a record 12th time earlier in March this year [[3]](https://www.cnbc.com/2023/03/16/best-airport-in-the-world-singapores-changi-airport-says-skytrax.html). The strategic addition of Terminal 5 would allow the airport to better serve passengers in all areas of arrival, departure and transit.\n",
    "\n",
    "Being part of the Changi Airport Group (CAG)'s airport operations team, I would like to utilise regression and time series forecasting models to forecast passenger traffic to assess sufficiency of the passenger handling capacity of Changi Airport with the addition of Terminal 5."
   ]
  },
  {
   "cell_type": "markdown",
   "id": "67f97dfc",
   "metadata": {},
   "source": [
    "## 1.3 Data Source"
   ]
  },
  {
   "cell_type": "markdown",
   "id": "40789cc4",
   "metadata": {},
   "source": [
    "The passenger arrival and departure numbers through Changi Airport would be used to forecast the passenger traffic and the data are published by the Department of Statistics Singapore:\n",
    "- Air Passenger Departures By Region/Country Of Disembarkation (retrieved from https://tablebuilder.singstat.gov.sg/table/TS/M650041)\n",
    "- Air Passenger Arrivals By Region/Country Of Embarkation (retrieved from https://tablebuilder.singstat.gov.sg/table/TS/M650051)\n",
    "\n",
    "It is also to be noted that the data:\n",
    "- Contain monthly statistics for the period from January 1961 to April 2023, but figures from January 1989 refer to Changi Airport only\n",
    "- Provide passenger count breakdown by region (i.e., South East Asia, North East Asia, South Asia, Middle East, Oceania, Europe, North America, Other Regions), but further breakdown by country is only available for Indonesia, Malaysia, Philippines, Thailand, Vietnam, Mainland China, Hong Kong, Japan, France, Germany, United Kingdom) and they do not sum up to the total of the respective regions\n",
    "- Exclude transit passengers who continued their journey on the same flight"
   ]
  },
  {
   "cell_type": "markdown",
   "id": "824f8189",
   "metadata": {},
   "source": [
    "The passengers served by the airport goes beyond just the passengers who arrive or depart from Singapore, but also the passengers who chose Singapore to transit at for their onward flight to their final destination. However, the above datasets do not include the number of transit passengers. Thus, data on transit passengers are sourced for separately from the following dataset:\n",
    "- Civil Aircraft Arrivals And Departures, Passengers, Air Cargo Tonnage, Direct And Transhipment Tonnage And Mail - Changi Airport (retrieved from https://tablebuilder.singstat.gov.sg/table/TS/M650031)\n",
    "\n",
    "Similarly, the data contain monthly statistics for the period from January 1961 to April 2023, but figures from January 1989 refer to Changi Airport only. In addition, the total passenger number refers the summation of arriving, departing and transit passengers."
   ]
  },
  {
   "cell_type": "markdown",
   "id": "2e7e7bfd",
   "metadata": {},
   "source": [
    "## 1.4 Model Evaluation Criteria"
   ]
  },
  {
   "cell_type": "markdown",
   "id": "7c2df4ee",
   "metadata": {},
   "source": [
    "The objective would be for the final selected model to achieve a MAPE of 10% or lesser."
   ]
  },
  {
   "cell_type": "code",
   "execution_count": null,
   "id": "fe6fbf74",
   "metadata": {},
   "outputs": [],
   "source": []
  }
 ],
 "metadata": {
  "kernelspec": {
   "display_name": "Python 3",
   "language": "python",
   "name": "python3"
  },
  "language_info": {
   "codemirror_mode": {
    "name": "ipython",
    "version": 3
   },
   "file_extension": ".py",
   "mimetype": "text/x-python",
   "name": "python",
   "nbconvert_exporter": "python",
   "pygments_lexer": "ipython3",
   "version": "3.8.8"
  }
 },
 "nbformat": 4,
 "nbformat_minor": 5
}
