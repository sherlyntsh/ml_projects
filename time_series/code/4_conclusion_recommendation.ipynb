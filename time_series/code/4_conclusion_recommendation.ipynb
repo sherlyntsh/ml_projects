{
 "cells": [
  {
   "cell_type": "markdown",
   "id": "0a378f33",
   "metadata": {},
   "source": [
    "# 4. Conclusion & Recommendation"
   ]
  },
  {
   "cell_type": "markdown",
   "id": "f868c74c",
   "metadata": {},
   "source": [
    "## 4.1 Conclusion"
   ]
  },
  {
   "cell_type": "markdown",
   "id": "f27c47ad",
   "metadata": {},
   "source": [
    "To investigate the sufficiency of Changi Airport's passenger handling capacity with the addition of Terminal 5, air passenger traffic data for arrival, departure and transit are retrieved from the publication by Department of Statistics Singapore. The data covers monthly statistics for the period from January 1961 to April 2023 but only data from January 1981 are retained as part of the data cleaning process since the problem statement here seeks to address the passenger handling capacity of Changi Airport only. The data cleaning process also covers steps such as formatting, removal of unncessary information and conversion of data types to facilitate the subsequent exploratory data analysis (EDA) and modeling process.\n",
    "\n",
    "Based on the EDA, it is observed that there is a general increasing trend in air passenger traffic across the past decades but with impact of external factors such as the SARS and COVID-19 outbreak clearly visible. When averaging on a monthly basis across the years, a general increasing trend is also observed with the peak in December. This indicates that air travel demand is mostly concentrated at the end of the year which coincides with the holiday period and the period in which most people would be taking time off from work before the next calendar year.\n",
    "\n",
    "A total of 6 models consisting of linear regression and XGBoost (with lagged and differenced values), as well as Prophet were explored in 2 parts:\n",
    "1. Built using original dataset\n",
    "2. Built using truncated dataset (to only retain data prior to the impact of COVID-19)\n",
    "\n",
    "As time series data is in a chronological order, models tend to perform well on the train set but badly on test set due to the presence of the sudden and drastic drop in air passenger traffic caused by the COVID-19 pandemic in the test set. Thus, the 3 models were built again but using the truncated dataset as a mean to objectively assess the model's performance. By using the truncated dataset, there are significant improvements in the performance of all models on the test set but the performance of the XGBoost model remains lacklustre as compared to linear regression and Prophet. The Prophet model was eventually selected as the final model to be used for the forecasting of air passenger traffic in view of its test MAPE score (of about 6.68%) being the lowest. Based on the objective stated in the Project Overview, the selected model has achieved the targets set out in the beginning."
   ]
  },
  {
   "cell_type": "markdown",
   "id": "f5103f53",
   "metadata": {},
   "source": [
    "## 4.2 Recommendation"
   ]
  },
  {
   "cell_type": "markdown",
   "id": "01abdc8b",
   "metadata": {},
   "source": [
    "As air travel demand returns in the midst of the pandemic's aftermath, air passenger traffic is expected to return to pre-pandemic level by 2024 [[1]](https://www.straitstimes.com/singapore/politics/passenger-traffic-at-changi-airport-expected-to-recover-fully-by-2024-or-possibly-earlier-iswaran#:~:text=Giving%20this%20update%20on%20Friday,recovered%20fully%20since%20January%202023.). To forecast the air passenger traffic in mid-2030 (i.e., June 2030), we assign early 2020 (pre-pandemic period) as January 2024 and forecast into the future to arrive at the period of (pseudo) June 2030 assuming that the increase in air passenger traffic follows the pre-pandemic trend.\n",
    "\n",
    "Using the Prophet model, the forecasted air passenger traffic in (pseudo) June 2030 would reach 6,874,936 and this leads to an estimated annual number of 82,499,232 passengers passing through Changi Airport. With the completion of Terminal 5 in mid-2030, Changi Airport's total annual passenger handling capacity would be increased up to 135,000,000 [[2]](https://www.airport-technology.com/projects/terminal-5-changi-international-airport/). Thus, it can be concluded that Changi Airport would be well-equipped to handle the forecasted growth in air travel with the completion of Terminal 5 and with ample headroom for further growth.\n",
    "\n",
    "By further stretching out the forecasting timeline of the Prophet model to determine the estimated time frame in which the air passenger traffic would approach the handling capacity limit, it is observed that the annual forecasted traffic would reach about 133,590,720 by (pseudo) August 2049. Thus, the airport operations team could look into potential expansion plans for the terminals starting from year 2039."
   ]
  },
  {
   "cell_type": "markdown",
   "id": "d54d9aa0",
   "metadata": {},
   "source": [
    "## 4.3 Future Steps"
   ]
  },
  {
   "cell_type": "markdown",
   "id": "ff82ba8a",
   "metadata": {},
   "source": [
    "While the problem statement seeks to specifically address the sufficiency of Changi Airport's passenger handling capacity by the time Terminal 5 is completed, additional models could be explored to forecast the air passenger traffic by regions since the collected data on arrival and departure traffic contains the breakdown by region. With these forecasts, it could potentially further assist the airport operations team in planning the flight distribution across the five terminals.\n",
    "\n",
    "Another aspect to consider would be to source for alternative sources of data which records the air passenger traffic observations on a daily basis to increase the number of observations and investigate its impact on the models' performances. This is in view of the fact that the current datasets records the observations on a monthly basis which gives only 412 rows of observations at maximum after dropping the records for the earlier years to focus only on the air passenger traffic for Changi Airport.\n",
    "\n",
    "For the linear regression model, additional features could be added to indicate local and / or regional holiday periods to further investigate its impact on these models' performances. Other variables such as socioeconomic indicators (i.e., Gross Domestic Product, population, Consumer Price Index) could also be considered.\n",
    "\n",
    "Lastly, the ConvLSTM2D model which is a hybrid between Convolutional Neural Networks and Recurrent Neural Networks could be further researched on and explored for use. This is in view of the positive outcome of relatively low MAPE values of about 3% to 9% documented in the scientific article on air passenger demand forecast published by the Embry-Riddle Aeronautical University, despite including observations affected by the COVID-19 pandemic [[3]](https://commons.erau.edu/cgi/viewcontent.cgi?article=1726&context=ijaaa)."
   ]
  },
  {
   "cell_type": "code",
   "execution_count": null,
   "id": "1b493e70",
   "metadata": {},
   "outputs": [],
   "source": []
  }
 ],
 "metadata": {
  "kernelspec": {
   "display_name": "Python 3",
   "language": "python",
   "name": "python3"
  },
  "language_info": {
   "codemirror_mode": {
    "name": "ipython",
    "version": 3
   },
   "file_extension": ".py",
   "mimetype": "text/x-python",
   "name": "python",
   "nbconvert_exporter": "python",
   "pygments_lexer": "ipython3",
   "version": "3.8.8"
  }
 },
 "nbformat": 4,
 "nbformat_minor": 5
}
