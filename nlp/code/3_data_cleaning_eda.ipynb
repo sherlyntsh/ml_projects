{
 "cells": [
  {
   "cell_type": "markdown",
   "id": "fac86cf5",
   "metadata": {},
   "source": [
    "## 3. Data Cleaning & EDA"
   ]
  },
  {
   "cell_type": "code",
   "execution_count": 1,
   "id": "0ca46aa3",
   "metadata": {},
   "outputs": [],
   "source": [
    "# imports\n",
    "import pandas as pd\n",
    "import numpy as np\n",
    "import re\n",
    "import matplotlib.pyplot as plt\n",
    "import seaborn as sns\n",
    "\n",
    "from nltk.stem import WordNetLemmatizer\n",
    "from nltk.tokenize import word_tokenize\n",
    "from nltk.corpus import stopwords\n",
    "from nltk import FreqDist"
   ]
  },
  {
   "cell_type": "code",
   "execution_count": 2,
   "id": "f50f9429",
   "metadata": {},
   "outputs": [
    {
     "data": {
      "text/html": [
       "<div>\n",
       "<style scoped>\n",
       "    .dataframe tbody tr th:only-of-type {\n",
       "        vertical-align: middle;\n",
       "    }\n",
       "\n",
       "    .dataframe tbody tr th {\n",
       "        vertical-align: top;\n",
       "    }\n",
       "\n",
       "    .dataframe thead th {\n",
       "        text-align: right;\n",
       "    }\n",
       "</style>\n",
       "<table border=\"1\" class=\"dataframe\">\n",
       "  <thead>\n",
       "    <tr style=\"text-align: right;\">\n",
       "      <th></th>\n",
       "      <th>subreddit</th>\n",
       "      <th>post_content</th>\n",
       "      <th>upvote_ratio</th>\n",
       "    </tr>\n",
       "  </thead>\n",
       "  <tbody>\n",
       "    <tr>\n",
       "      <th>0</th>\n",
       "      <td>statistics</td>\n",
       "      <td>Hello everyone!\\n\\nFirstly, please let me know...</td>\n",
       "      <td>1.00</td>\n",
       "    </tr>\n",
       "    <tr>\n",
       "      <th>1</th>\n",
       "      <td>statistics</td>\n",
       "      <td>It would be great if the numbers are from 2022...</td>\n",
       "      <td>0.33</td>\n",
       "    </tr>\n",
       "    <tr>\n",
       "      <th>2</th>\n",
       "      <td>statistics</td>\n",
       "      <td>Hi, I would like to know what sort of approach...</td>\n",
       "      <td>0.67</td>\n",
       "    </tr>\n",
       "    <tr>\n",
       "      <th>3</th>\n",
       "      <td>statistics</td>\n",
       "      <td>I recently got a job offer for a chemistry ass...</td>\n",
       "      <td>0.76</td>\n",
       "    </tr>\n",
       "    <tr>\n",
       "      <th>4</th>\n",
       "      <td>statistics</td>\n",
       "      <td>I am a foreign student in the United States of...</td>\n",
       "      <td>0.65</td>\n",
       "    </tr>\n",
       "  </tbody>\n",
       "</table>\n",
       "</div>"
      ],
      "text/plain": [
       "    subreddit                                       post_content  upvote_ratio\n",
       "0  statistics  Hello everyone!\\n\\nFirstly, please let me know...          1.00\n",
       "1  statistics  It would be great if the numbers are from 2022...          0.33\n",
       "2  statistics  Hi, I would like to know what sort of approach...          0.67\n",
       "3  statistics  I recently got a job offer for a chemistry ass...          0.76\n",
       "4  statistics  I am a foreign student in the United States of...          0.65"
      ]
     },
     "execution_count": 2,
     "metadata": {},
     "output_type": "execute_result"
    }
   ],
   "source": [
    "# load collected data\n",
    "subreddit_content = pd.read_csv('../dataset/subreddit_content.csv')\n",
    "\n",
    "subreddit_content.head()"
   ]
  },
  {
   "cell_type": "markdown",
   "id": "fe5f76fe",
   "metadata": {},
   "source": [
    "### a. Data Cleaning"
   ]
  },
  {
   "cell_type": "markdown",
   "id": "bd262803",
   "metadata": {},
   "source": [
    "#### Missing values"
   ]
  },
  {
   "cell_type": "code",
   "execution_count": 3,
   "id": "0d2616fd",
   "metadata": {},
   "outputs": [
    {
     "name": "stdout",
     "output_type": "stream",
     "text": [
      "<class 'pandas.core.frame.DataFrame'>\n",
      "RangeIndex: 1830 entries, 0 to 1829\n",
      "Data columns (total 3 columns):\n",
      " #   Column        Non-Null Count  Dtype  \n",
      "---  ------        --------------  -----  \n",
      " 0   subreddit     1830 non-null   object \n",
      " 1   post_content  1829 non-null   object \n",
      " 2   upvote_ratio  1830 non-null   float64\n",
      "dtypes: float64(1), object(2)\n",
      "memory usage: 43.0+ KB\n"
     ]
    }
   ],
   "source": [
    "# check for missing entries\n",
    "subreddit_content.info()"
   ]
  },
  {
   "cell_type": "markdown",
   "id": "fc876d30",
   "metadata": {},
   "source": [
    "A null value is identified in the 'post_content' column. Since only one record is affected out of 1830 records and the fact that the values under 'post_content' column is critical for analysis, the value should not be imputed and the entire row of record would thus be dropped."
   ]
  },
  {
   "cell_type": "code",
   "execution_count": 4,
   "id": "d30a6363",
   "metadata": {
    "scrolled": true
   },
   "outputs": [
    {
     "name": "stdout",
     "output_type": "stream",
     "text": [
      "<class 'pandas.core.frame.DataFrame'>\n",
      "Int64Index: 1829 entries, 0 to 1829\n",
      "Data columns (total 3 columns):\n",
      " #   Column        Non-Null Count  Dtype  \n",
      "---  ------        --------------  -----  \n",
      " 0   subreddit     1829 non-null   object \n",
      " 1   post_content  1829 non-null   object \n",
      " 2   upvote_ratio  1829 non-null   float64\n",
      "dtypes: float64(1), object(2)\n",
      "memory usage: 57.2+ KB\n"
     ]
    }
   ],
   "source": [
    "# drop row with null value\n",
    "subreddit_content.dropna(inplace = True)\n",
    "\n",
    "# verify removal of record\n",
    "subreddit_content.info()"
   ]
  },
  {
   "cell_type": "markdown",
   "id": "db939f5b",
   "metadata": {},
   "source": [
    "#### Convert all letters to lower cap for 'subreddit' and 'post_content' columns"
   ]
  },
  {
   "cell_type": "code",
   "execution_count": 5,
   "id": "bb9b8acb",
   "metadata": {},
   "outputs": [],
   "source": [
    "# define function for the conversion\n",
    "def lowercase_conversion(column_name):\n",
    "    subreddit_content[column_name] = subreddit_content[column_name].str.lower()"
   ]
  },
  {
   "cell_type": "code",
   "execution_count": 6,
   "id": "367d2f94",
   "metadata": {},
   "outputs": [],
   "source": [
    "# convert for 'subreddit' column\n",
    "lowercase_conversion('subreddit')\n",
    "\n",
    "# convert for 'post_content' column\n",
    "lowercase_conversion('post_content')"
   ]
  },
  {
   "cell_type": "markdown",
   "id": "b2abc8a9",
   "metadata": {},
   "source": [
    "#### Remove irrelevant characters, special symbols, URL, etc in 'post_content' column"
   ]
  },
  {
   "cell_type": "code",
   "execution_count": 7,
   "id": "136dd43a",
   "metadata": {},
   "outputs": [],
   "source": [
    "# define function to remove url\n",
    "def remove_url(value):\n",
    "    url_pattern = re.compile(r'http[s]?://(?:[a-zA-Z]|[0-9]|[$-_@.&+]|[!*\\\\(\\\\),]|(?:%[0-9a-fA-F][0-9a-fA-F]))+')\n",
    "    return re.sub(url_pattern, '', value)\n",
    "\n",
    "# remove url\n",
    "subreddit_content['post_content'] = subreddit_content['post_content'].apply(remove_url)"
   ]
  },
  {
   "cell_type": "code",
   "execution_count": 8,
   "id": "c51d2f63",
   "metadata": {},
   "outputs": [],
   "source": [
    "# remove newline characters\n",
    "subreddit_content['post_content'] = subreddit_content['post_content'].str.replace('\\n', ' ', regex = True)\n",
    "\n",
    "# remove special characters\n",
    "subreddit_content['post_content'] = subreddit_content['post_content'].str.replace('[^\\w\\s]', '', regex = True)"
   ]
  },
  {
   "cell_type": "markdown",
   "id": "d6b909f1",
   "metadata": {},
   "source": [
    "#### Tokenization, lemmatization and removal of english stop words"
   ]
  },
  {
   "cell_type": "code",
   "execution_count": 9,
   "id": "049cf3dd",
   "metadata": {},
   "outputs": [
    {
     "data": {
      "text/html": [
       "<div>\n",
       "<style scoped>\n",
       "    .dataframe tbody tr th:only-of-type {\n",
       "        vertical-align: middle;\n",
       "    }\n",
       "\n",
       "    .dataframe tbody tr th {\n",
       "        vertical-align: top;\n",
       "    }\n",
       "\n",
       "    .dataframe thead th {\n",
       "        text-align: right;\n",
       "    }\n",
       "</style>\n",
       "<table border=\"1\" class=\"dataframe\">\n",
       "  <thead>\n",
       "    <tr style=\"text-align: right;\">\n",
       "      <th></th>\n",
       "      <th>subreddit</th>\n",
       "      <th>post_content</th>\n",
       "      <th>upvote_ratio</th>\n",
       "    </tr>\n",
       "  </thead>\n",
       "  <tbody>\n",
       "    <tr>\n",
       "      <th>0</th>\n",
       "      <td>statistics</td>\n",
       "      <td>hello everyone firstly please let know post be...</td>\n",
       "      <td>1.00</td>\n",
       "    </tr>\n",
       "    <tr>\n",
       "      <th>1</th>\n",
       "      <td>statistics</td>\n",
       "      <td>would great number 2022 anyone know find tried...</td>\n",
       "      <td>0.33</td>\n",
       "    </tr>\n",
       "    <tr>\n",
       "      <th>2</th>\n",
       "      <td>statistics</td>\n",
       "      <td>hi would like know sort approach used best for...</td>\n",
       "      <td>0.67</td>\n",
       "    </tr>\n",
       "    <tr>\n",
       "      <th>3</th>\n",
       "      <td>statistics</td>\n",
       "      <td>recently got job offer chemistry assistant job...</td>\n",
       "      <td>0.76</td>\n",
       "    </tr>\n",
       "    <tr>\n",
       "      <th>4</th>\n",
       "      <td>statistics</td>\n",
       "      <td>foreign student united state america completed...</td>\n",
       "      <td>0.65</td>\n",
       "    </tr>\n",
       "  </tbody>\n",
       "</table>\n",
       "</div>"
      ],
      "text/plain": [
       "    subreddit                                       post_content  upvote_ratio\n",
       "0  statistics  hello everyone firstly please let know post be...          1.00\n",
       "1  statistics  would great number 2022 anyone know find tried...          0.33\n",
       "2  statistics  hi would like know sort approach used best for...          0.67\n",
       "3  statistics  recently got job offer chemistry assistant job...          0.76\n",
       "4  statistics  foreign student united state america completed...          0.65"
      ]
     },
     "execution_count": 9,
     "metadata": {},
     "output_type": "execute_result"
    }
   ],
   "source": [
    "# instantiate WordNetLemmatizer\n",
    "lemmatizer = WordNetLemmatizer()\n",
    "\n",
    "# get list of stopwords\n",
    "stopwords_list = stopwords.words('english')\n",
    "\n",
    "# tokenize, lemmatize and remove stop words\n",
    "subreddit_content['post_content'] = subreddit_content['post_content'].apply(lambda x: ' '.join([lemmatizer.lemmatize(word) for word in word_tokenize(x) if word.lower() not in stopwords_list]))\n",
    "\n",
    "subreddit_content.head()"
   ]
  },
  {
   "cell_type": "markdown",
   "id": "d2213d51",
   "metadata": {},
   "source": [
    "### b. EDA"
   ]
  },
  {
   "cell_type": "markdown",
   "id": "27a4c405",
   "metadata": {},
   "source": [
    "#### Summary statistics"
   ]
  },
  {
   "cell_type": "code",
   "execution_count": 10,
   "id": "c096b7c2",
   "metadata": {},
   "outputs": [
    {
     "data": {
      "text/html": [
       "<div>\n",
       "<style scoped>\n",
       "    .dataframe tbody tr th:only-of-type {\n",
       "        vertical-align: middle;\n",
       "    }\n",
       "\n",
       "    .dataframe tbody tr th {\n",
       "        vertical-align: top;\n",
       "    }\n",
       "\n",
       "    .dataframe thead tr th {\n",
       "        text-align: left;\n",
       "    }\n",
       "\n",
       "    .dataframe thead tr:last-of-type th {\n",
       "        text-align: right;\n",
       "    }\n",
       "</style>\n",
       "<table border=\"1\" class=\"dataframe\">\n",
       "  <thead>\n",
       "    <tr>\n",
       "      <th></th>\n",
       "      <th colspan=\"8\" halign=\"left\">upvote_ratio</th>\n",
       "    </tr>\n",
       "    <tr>\n",
       "      <th></th>\n",
       "      <th>count</th>\n",
       "      <th>mean</th>\n",
       "      <th>std</th>\n",
       "      <th>min</th>\n",
       "      <th>25%</th>\n",
       "      <th>50%</th>\n",
       "      <th>75%</th>\n",
       "      <th>max</th>\n",
       "    </tr>\n",
       "    <tr>\n",
       "      <th>subreddit</th>\n",
       "      <th></th>\n",
       "      <th></th>\n",
       "      <th></th>\n",
       "      <th></th>\n",
       "      <th></th>\n",
       "      <th></th>\n",
       "      <th></th>\n",
       "      <th></th>\n",
       "    </tr>\n",
       "  </thead>\n",
       "  <tbody>\n",
       "    <tr>\n",
       "      <th>machinelearning</th>\n",
       "      <td>859.0</td>\n",
       "      <td>0.749406</td>\n",
       "      <td>0.221121</td>\n",
       "      <td>0.07</td>\n",
       "      <td>0.64</td>\n",
       "      <td>0.82</td>\n",
       "      <td>0.92</td>\n",
       "      <td>1.0</td>\n",
       "    </tr>\n",
       "    <tr>\n",
       "      <th>statistics</th>\n",
       "      <td>970.0</td>\n",
       "      <td>0.829918</td>\n",
       "      <td>0.206232</td>\n",
       "      <td>0.10</td>\n",
       "      <td>0.73</td>\n",
       "      <td>0.91</td>\n",
       "      <td>1.00</td>\n",
       "      <td>1.0</td>\n",
       "    </tr>\n",
       "  </tbody>\n",
       "</table>\n",
       "</div>"
      ],
      "text/plain": [
       "                upvote_ratio                                                 \n",
       "                       count      mean       std   min   25%   50%   75%  max\n",
       "subreddit                                                                    \n",
       "machinelearning        859.0  0.749406  0.221121  0.07  0.64  0.82  0.92  1.0\n",
       "statistics             970.0  0.829918  0.206232  0.10  0.73  0.91  1.00  1.0"
      ]
     },
     "execution_count": 10,
     "metadata": {},
     "output_type": "execute_result"
    }
   ],
   "source": [
    "subreddit_content.groupby('subreddit').describe()"
   ]
  },
  {
   "cell_type": "markdown",
   "id": "cd07be31",
   "metadata": {},
   "source": [
    "The upvote ratio measures the ratio (or percentage) of upvotes received by the posts against the total number of votes received. In this case, the mean ratio for both the machine learning and statistics posts are around 0.75 to 0.83 respectively which are both rather healthy ratio numbers. This indicates that the posts which have been scraped are generally of relatively good standing in terms of content on the respective subreddit commmunities."
   ]
  },
  {
   "cell_type": "markdown",
   "id": "91a9c433",
   "metadata": {},
   "source": [
    "#### Topic 1: Statistics"
   ]
  },
  {
   "cell_type": "markdown",
   "id": "f6ce19ea",
   "metadata": {},
   "source": [
    "i. Outlier analysis (by analysing word frequency for the 50 most used words)"
   ]
  },
  {
   "cell_type": "code",
   "execution_count": 11,
   "id": "7af35553",
   "metadata": {},
   "outputs": [
    {
     "data": {
      "image/png": "[encoded data removed]",
      "text/plain": [
       "<Figure size 936x576 with 1 Axes>"
      ]
     },
     "metadata": {
      "needs_background": "light"
     },
     "output_type": "display_data"
    }
   ],
   "source": [
    "# extract words from 'post_content' column\n",
    "stats_content = subreddit_content[subreddit_content['subreddit'] == 'statistics']['post_content'].str.split().tolist()\n",
    "stats_words = [word for sublist in stats_content for word in sublist]\n",
    "\n",
    "# calculate frequency\n",
    "stats_word_freq = FreqDist(stats_words)\n",
    "\n",
    "# convert frequency distribution to df\n",
    "stats_freq_df = pd.DataFrame({'Word': list(stats_word_freq.keys()), 'Frequency': list(stats_word_freq.values())})\n",
    "\n",
    "# sort df by frequency in descending order\n",
    "sorted_stats_df = stats_freq_df.sort_values(by = 'Frequency', ascending = False)\n",
    "\n",
    "# plot word frequency countplot\n",
    "plt.figure(figsize=(13, 8))\n",
    "sns.barplot(x = 'Frequency', y = 'Word', data = sorted_stats_df.head(50))\n",
    "plt.xlabel('Frequency')\n",
    "plt.ylabel('Words')\n",
    "plt.title('50 Most Used Words in Statistics Posts')\n",
    "plt.show()"
   ]
  },
  {
   "cell_type": "markdown",
   "id": "746c4211",
   "metadata": {},
   "source": [
    "Based on the above analysis of 50 most used words in the scraped statistics posts, it is observed that there are quite a few words which do not have any actual meaning (e.g., im, would, wa) or are not contextually related to the topic of statistics (e.g., like, know, thanks). Thus, these words would be removed to avoid affecting the subsequent model training in view of the high frequency of use.\n",
    "\n",
    "At the same time, we can also observe that common words used in these posts touch on aspects related to statistical analysis such as 'variable', 'regression', 'sample', 'distribution', 'mean', 'statistical', 'statistic', 'stats'."
   ]
  },
  {
   "cell_type": "code",
   "execution_count": 12,
   "id": "a36314de",
   "metadata": {},
   "outputs": [],
   "source": [
    "# define list of stopwords\n",
    "stats_stopwords = ['im', 'would', 'like', 'wa', 'know', 'get', 'want', 'ha', 'ive', 'need', 'dont', 'b', 'help', 'could', 'however', 'say', 'thanks', 'trying', 'work']\n",
    "\n",
    "# define function to remove stopwords\n",
    "def remove_stats_stopwords(text):\n",
    "    words = text.split()\n",
    "    filtered_words = [word for word in words if word not in stats_stopwords]\n",
    "    return ' '.join(filtered_words)\n",
    "\n",
    "# apply function to 'post_content' column\n",
    "stats_mask = subreddit_content['subreddit'] == 'statistics'\n",
    "subreddit_content.loc[stats_mask, 'post_content'] = subreddit_content.loc[stats_mask, 'post_content'].apply(remove_stats_stopwords)"
   ]
  },
  {
   "cell_type": "markdown",
   "id": "ed17be91",
   "metadata": {},
   "source": [
    "ii. Outlier analysis (by reviewing words with low word frequency)"
   ]
  },
  {
   "cell_type": "code",
   "execution_count": 17,
   "id": "571e2a87",
   "metadata": {
    "scrolled": false
   },
   "outputs": [
    {
     "data": {
      "text/plain": [
       "1    4499\n",
       "2    1243\n",
       "3     624\n",
       "4     408\n",
       "5     296\n",
       "6     215\n",
       "7     185\n",
       "8     166\n",
       "9     123\n",
       "Name: Frequency, dtype: int64"
      ]
     },
     "execution_count": 17,
     "metadata": {},
     "output_type": "execute_result"
    }
   ],
   "source": [
    "# number of words under each word frequency\n",
    "stats_value_counts = sorted_stats_df['Frequency'].value_counts()\n",
    "\n",
    "# filter and print value counts greater than 1\n",
    "filtered_stats_value_counts = stats_value_counts[stats_value_counts > 100]\n",
    "                      \n",
    "filtered_stats_value_counts"
   ]
  },
  {
   "cell_type": "markdown",
   "id": "434d0a03",
   "metadata": {},
   "source": [
    "By reviewing the value counts of the 'Frequency' column, there is a decreasing trend as the number of occurence of the word increases which is an expected trend as the words used by different individuals vary and would only have overlaps to a certain extent. However, we see that there are drastic drops in the value counts between words that occurs (1) once versus twice and (2) twice versus thrice in all of the statistics post, before smoothening out to a more gentle decreasing rate."
   ]
  },
  {
   "cell_type": "code",
   "execution_count": 18,
   "id": "8aceec71",
   "metadata": {
    "scrolled": true
   },
   "outputs": [
    {
     "data": {
      "text/html": [
       "<div>\n",
       "<style scoped>\n",
       "    .dataframe tbody tr th:only-of-type {\n",
       "        vertical-align: middle;\n",
       "    }\n",
       "\n",
       "    .dataframe tbody tr th {\n",
       "        vertical-align: top;\n",
       "    }\n",
       "\n",
       "    .dataframe thead th {\n",
       "        text-align: right;\n",
       "    }\n",
       "</style>\n",
       "<table border=\"1\" class=\"dataframe\">\n",
       "  <thead>\n",
       "    <tr style=\"text-align: right;\">\n",
       "      <th></th>\n",
       "      <th>Word</th>\n",
       "      <th>Frequency</th>\n",
       "    </tr>\n",
       "  </thead>\n",
       "  <tbody>\n",
       "    <tr>\n",
       "      <th>5650</th>\n",
       "      <td>000</td>\n",
       "      <td>2</td>\n",
       "    </tr>\n",
       "    <tr>\n",
       "      <th>5570</th>\n",
       "      <td>00000</td>\n",
       "      <td>1</td>\n",
       "    </tr>\n",
       "    <tr>\n",
       "      <th>8932</th>\n",
       "      <td>0000000000</td>\n",
       "      <td>1</td>\n",
       "    </tr>\n",
       "    <tr>\n",
       "      <th>8931</th>\n",
       "      <td>0000005</td>\n",
       "      <td>1</td>\n",
       "    </tr>\n",
       "    <tr>\n",
       "      <th>4269</th>\n",
       "      <td>0000192</td>\n",
       "      <td>1</td>\n",
       "    </tr>\n",
       "    <tr>\n",
       "      <th>...</th>\n",
       "      <td>...</td>\n",
       "      <td>...</td>\n",
       "    </tr>\n",
       "    <tr>\n",
       "      <th>8202</th>\n",
       "      <td>β0β1_xi1βp_xip</td>\n",
       "      <td>1</td>\n",
       "    </tr>\n",
       "    <tr>\n",
       "      <th>6455</th>\n",
       "      <td>εiid</td>\n",
       "      <td>1</td>\n",
       "    </tr>\n",
       "    <tr>\n",
       "      <th>810</th>\n",
       "      <td>ρ</td>\n",
       "      <td>1</td>\n",
       "    </tr>\n",
       "    <tr>\n",
       "      <th>4347</th>\n",
       "      <td>χ2</td>\n",
       "      <td>1</td>\n",
       "    </tr>\n",
       "    <tr>\n",
       "      <th>2679</th>\n",
       "      <td>𝐷𝐵𝑃i</td>\n",
       "      <td>1</td>\n",
       "    </tr>\n",
       "  </tbody>\n",
       "</table>\n",
       "<p>5742 rows × 2 columns</p>\n",
       "</div>"
      ],
      "text/plain": [
       "                Word  Frequency\n",
       "5650             000          2\n",
       "5570           00000          1\n",
       "8932      0000000000          1\n",
       "8931         0000005          1\n",
       "4269         0000192          1\n",
       "...              ...        ...\n",
       "8202  β0β1_xi1βp_xip          1\n",
       "6455            εiid          1\n",
       "810                ρ          1\n",
       "4347              χ2          1\n",
       "2679            𝐷𝐵𝑃i          1\n",
       "\n",
       "[5742 rows x 2 columns]"
      ]
     },
     "execution_count": 18,
     "metadata": {},
     "output_type": "execute_result"
    }
   ],
   "source": [
    "sorted_stats_df[sorted_stats_df['Frequency'] < 3].sort_values(by = 'Word')"
   ]
  },
  {
   "cell_type": "markdown",
   "id": "77fa0a18",
   "metadata": {},
   "source": [
    "Words which only appears once or twice in all of the posts are likely to not be meaningful for model training due to the extremely low occurence. Thus, these words are filtered and sorted as above to check that it concurs with the earlier proposition that they lack contextual relation to the statistics topic. From here, they would be removed to avoid affecting the subsequent model training."
   ]
  },
  {
   "cell_type": "code",
   "execution_count": 19,
   "id": "b610e646",
   "metadata": {},
   "outputs": [],
   "source": [
    "# define words to remove\n",
    "stats_words_to_remove = sorted_stats_df[sorted_stats_df['Frequency'] < 3]['Word'].tolist()\n",
    "\n",
    "def remove_stats_words(text):\n",
    "    words = text.split()\n",
    "    filtered_words = [word for word in words if word not in stats_words_to_remove]\n",
    "    return ' '.join(filtered_words)\n",
    "\n",
    "subreddit_content.loc[subreddit_content['subreddit'] == 'statistics', 'post_content'] = subreddit_content.loc[subreddit_content['subreddit'] == 'statistics', 'post_content'].apply(remove_stats_words)"
   ]
  },
  {
   "cell_type": "markdown",
   "id": "d88c4f1b",
   "metadata": {},
   "source": [
    "iii. Post length analysis"
   ]
  },
  {
   "cell_type": "code",
   "execution_count": 20,
   "id": "03189b10",
   "metadata": {},
   "outputs": [
    {
     "data": {
      "image/png": "[encoded data removed]",
      "text/plain": [
       "<Figure size 864x504 with 1 Axes>"
      ]
     },
     "metadata": {
      "needs_background": "light"
     },
     "output_type": "display_data"
    }
   ],
   "source": [
    "stats_content = subreddit_content[subreddit_content['subreddit'] == 'statistics']\n",
    "\n",
    "# calculate post length\n",
    "stats_post_length = []\n",
    "\n",
    "for post in stats_content['post_content']:\n",
    "    stats_post_length.append(len(post))\n",
    "\n",
    "# plot histogram\n",
    "plt.figure(figsize = (12, 7))\n",
    "sns.histplot(stats_post_length, bins = 30)\n",
    "plt.xlabel('Word Count')\n",
    "plt.ylabel('Count')\n",
    "plt.title('Distribution of Statistics Post Length')\n",
    "plt.show()"
   ]
  },
  {
   "cell_type": "markdown",
   "id": "26047b06",
   "metadata": {},
   "source": [
    "The distribution of the post length for the statistics topic is observed to be positively-skewed, where most posts have a word count of about 200 to 900 words."
   ]
  },
  {
   "cell_type": "markdown",
   "id": "8eee35e7",
   "metadata": {},
   "source": [
    "#### Topic 2: Machine learning"
   ]
  },
  {
   "cell_type": "markdown",
   "id": "23ae1b7d",
   "metadata": {},
   "source": [
    "i. Outlier analysis (by analysing word frequency for the 50 most used words)"
   ]
  },
  {
   "cell_type": "code",
   "execution_count": 21,
   "id": "33d08003",
   "metadata": {
    "scrolled": true
   },
   "outputs": [
    {
     "data": {
      "image/png": "[encoded data removed]",
      "text/plain": [
       "<Figure size 936x576 with 1 Axes>"
      ]
     },
     "metadata": {
      "needs_background": "light"
     },
     "output_type": "display_data"
    }
   ],
   "source": [
    "# extract words from 'post_content' column\n",
    "ml_content = subreddit_content[subreddit_content['subreddit'] == 'machinelearning']['post_content'].str.split().tolist()\n",
    "ml_words = [word for sublist in ml_content for word in sublist]\n",
    "\n",
    "# calculate frequency\n",
    "ml_word_freq = FreqDist(ml_words)\n",
    "\n",
    "# convert frequency distribution to df\n",
    "ml_freq_df = pd.DataFrame({'Word': list(ml_word_freq.keys()), 'Frequency': list(ml_word_freq.values())})\n",
    "\n",
    "# sort df by frequency in descending order\n",
    "sorted_ml_df = ml_freq_df.sort_values(by = 'Frequency', ascending = False)\n",
    "\n",
    "# plot word frequency countplot\n",
    "plt.figure(figsize=(13, 8))\n",
    "sns.barplot(x = 'Frequency', y = 'Word', data = sorted_ml_df.head(50))\n",
    "plt.xlabel('Frequency')\n",
    "plt.ylabel('Words')\n",
    "plt.title('50 Most Used Words in Machine Learning Posts')\n",
    "plt.show()"
   ]
  },
  {
   "cell_type": "markdown",
   "id": "fb4cdf21",
   "metadata": {},
   "source": [
    "Performing the word frequency analysis again for the machine learning posts, it is also observed here that there are quite a few words which do not have any actual meaning (e.g., could, im, wa) or are not contextually related to the topic of machine learning (e.g., like, know, way). Thus, these words would be removed to avoid affecting the subsequent model training in view of the high frequency of use.\n",
    "\n",
    "For these machine learning posts, we observe that common words used touch on aspects related to modeling such as 'learning', 'training', 'machine', 'feature', 'output'. Additionally, there are also words such as 'ai' (Artificial Intelligence), 'llm' (Large Language Model), 'language', 'chatgpt', 'system' and 'network' which are all related to the field of Artificial Intelligence (AI) and specifically natural language processing."
   ]
  },
  {
   "cell_type": "code",
   "execution_count": 22,
   "id": "bfbabb92",
   "metadata": {},
   "outputs": [],
   "source": [
    "# define list of stopwords\n",
    "ml_stopwords = ['like', 'would', 'use', 'using', 'paper', 'im', 'one', 'also', 'could', 'need', 'get', 'want', 'much', 'anyone', 'way', 'know', 'work', 'new', 'used', 'make']\n",
    "\n",
    "# define function to remove stopwords\n",
    "def remove_ml_stopwords(text):\n",
    "    words = text.split()\n",
    "    filtered_words = [word for word in words if word not in ml_stopwords]\n",
    "    return ' '.join(filtered_words)\n",
    "\n",
    "# apply function to 'post_content' column\n",
    "ml_mask = subreddit_content['subreddit'] == 'machinelearning'\n",
    "subreddit_content.loc[ml_mask, 'post_content'] = subreddit_content.loc[ml_mask, 'post_content'].apply(remove_ml_stopwords)"
   ]
  },
  {
   "cell_type": "markdown",
   "id": "b2d442ce",
   "metadata": {},
   "source": [
    "ii. Outlier analysis (by reviewing words with low word frequency)"
   ]
  },
  {
   "cell_type": "code",
   "execution_count": 23,
   "id": "5130dd03",
   "metadata": {},
   "outputs": [
    {
     "data": {
      "text/plain": [
       "1     5175\n",
       "2     1457\n",
       "3      766\n",
       "4      517\n",
       "5      358\n",
       "6      241\n",
       "8      186\n",
       "7      181\n",
       "9      152\n",
       "10     102\n",
       "Name: Frequency, dtype: int64"
      ]
     },
     "execution_count": 23,
     "metadata": {},
     "output_type": "execute_result"
    }
   ],
   "source": [
    "# number of words under each word frequency\n",
    "ml_value_counts = sorted_ml_df['Frequency'].value_counts()\n",
    "\n",
    "# filter and print value counts greater than 1\n",
    "filtered_ml_value_counts = ml_value_counts[ml_value_counts > 100]\n",
    "                      \n",
    "filtered_ml_value_counts"
   ]
  },
  {
   "cell_type": "markdown",
   "id": "474204e5",
   "metadata": {},
   "source": [
    "From the above review of the value counts of the 'Frequency' column for machine learning posts instead, we observe a similar decreasing trend as the number of occurence of the word increases. Furthermore, we also see the same drastic drops in value counts between words that occurs (1) once versus twice and (2) twice versus thrice in all posts."
   ]
  },
  {
   "cell_type": "code",
   "execution_count": 24,
   "id": "a67e8285",
   "metadata": {
    "scrolled": true
   },
   "outputs": [
    {
     "data": {
      "text/html": [
       "<div>\n",
       "<style scoped>\n",
       "    .dataframe tbody tr th:only-of-type {\n",
       "        vertical-align: middle;\n",
       "    }\n",
       "\n",
       "    .dataframe tbody tr th {\n",
       "        vertical-align: top;\n",
       "    }\n",
       "\n",
       "    .dataframe thead th {\n",
       "        text-align: right;\n",
       "    }\n",
       "</style>\n",
       "<table border=\"1\" class=\"dataframe\">\n",
       "  <thead>\n",
       "    <tr style=\"text-align: right;\">\n",
       "      <th></th>\n",
       "      <th>Word</th>\n",
       "      <th>Frequency</th>\n",
       "    </tr>\n",
       "  </thead>\n",
       "  <tbody>\n",
       "    <tr>\n",
       "      <th>9559</th>\n",
       "      <td>110k</td>\n",
       "      <td>2</td>\n",
       "    </tr>\n",
       "    <tr>\n",
       "      <th>215</th>\n",
       "      <td>elo</td>\n",
       "      <td>2</td>\n",
       "    </tr>\n",
       "    <tr>\n",
       "      <th>2117</th>\n",
       "      <td>blur</td>\n",
       "      <td>2</td>\n",
       "    </tr>\n",
       "    <tr>\n",
       "      <th>6908</th>\n",
       "      <td>newsletter</td>\n",
       "      <td>2</td>\n",
       "    </tr>\n",
       "    <tr>\n",
       "      <th>2579</th>\n",
       "      <td>fsgpp</td>\n",
       "      <td>2</td>\n",
       "    </tr>\n",
       "    <tr>\n",
       "      <th>...</th>\n",
       "      <td>...</td>\n",
       "      <td>...</td>\n",
       "    </tr>\n",
       "    <tr>\n",
       "      <th>6315</th>\n",
       "      <td>hindered</td>\n",
       "      <td>1</td>\n",
       "    </tr>\n",
       "    <tr>\n",
       "      <th>6312</th>\n",
       "      <td>fortune</td>\n",
       "      <td>1</td>\n",
       "    </tr>\n",
       "    <tr>\n",
       "      <th>6310</th>\n",
       "      <td>stripe</td>\n",
       "      <td>1</td>\n",
       "    </tr>\n",
       "    <tr>\n",
       "      <th>6309</th>\n",
       "      <td>multiplied</td>\n",
       "      <td>1</td>\n",
       "    </tr>\n",
       "    <tr>\n",
       "      <th>10464</th>\n",
       "      <td>criticize</td>\n",
       "      <td>1</td>\n",
       "    </tr>\n",
       "  </tbody>\n",
       "</table>\n",
       "<p>6632 rows × 2 columns</p>\n",
       "</div>"
      ],
      "text/plain": [
       "             Word  Frequency\n",
       "9559         110k          2\n",
       "215           elo          2\n",
       "2117         blur          2\n",
       "6908   newsletter          2\n",
       "2579        fsgpp          2\n",
       "...           ...        ...\n",
       "6315     hindered          1\n",
       "6312      fortune          1\n",
       "6310       stripe          1\n",
       "6309   multiplied          1\n",
       "10464   criticize          1\n",
       "\n",
       "[6632 rows x 2 columns]"
      ]
     },
     "execution_count": 24,
     "metadata": {},
     "output_type": "execute_result"
    }
   ],
   "source": [
    "sorted_ml_df[sorted_ml_df['Frequency'] < 3]"
   ]
  },
  {
   "cell_type": "markdown",
   "id": "5e4edafa",
   "metadata": {},
   "source": [
    "Following the same approach for statistics post, such words are filtered and sorted as above to check that it concurs with the earlier proposition that they lack contextual relation to the machine learning topic. We would then proceed to remove them to avoid affecting the subsequent model training."
   ]
  },
  {
   "cell_type": "code",
   "execution_count": 25,
   "id": "deaa0718",
   "metadata": {},
   "outputs": [],
   "source": [
    "# define words to remove\n",
    "ml_words_to_remove = sorted_ml_df[sorted_ml_df['Frequency'] < 3]['Word'].tolist()\n",
    "\n",
    "def remove_ml_words(text):\n",
    "    words = text.split()\n",
    "    filtered_words = [word for word in words if word not in ml_words_to_remove]\n",
    "    return ' '.join(filtered_words)\n",
    "\n",
    "subreddit_content.loc[subreddit_content['subreddit'] == 'machinelearning', 'post_content'] = subreddit_content.loc[subreddit_content['subreddit'] == 'machinelearning', 'post_content'].apply(remove_ml_words)"
   ]
  },
  {
   "cell_type": "markdown",
   "id": "5d5d4b58",
   "metadata": {},
   "source": [
    "iii. Post length analysis"
   ]
  },
  {
   "cell_type": "code",
   "execution_count": 26,
   "id": "87482342",
   "metadata": {
    "scrolled": true
   },
   "outputs": [
    {
     "data": {
      "image/png": "[encoded data removed]",
      "text/plain": [
       "<Figure size 864x504 with 1 Axes>"
      ]
     },
     "metadata": {
      "needs_background": "light"
     },
     "output_type": "display_data"
    }
   ],
   "source": [
    "ml_content = subreddit_content[subreddit_content['subreddit'] == 'machinelearning']\n",
    "\n",
    "# calculate post length\n",
    "ml_post_length = []\n",
    "\n",
    "for post in ml_content['post_content']:\n",
    "    ml_post_length.append(len(post))\n",
    "\n",
    "# plot histogram\n",
    "plt.figure(figsize = (12, 7))\n",
    "sns.histplot(ml_post_length, bins = 30)\n",
    "plt.xlabel('Word Count')\n",
    "plt.ylabel('Count')\n",
    "plt.title('Distribution of Machine Learning Post Length')\n",
    "plt.show()"
   ]
  },
  {
   "cell_type": "markdown",
   "id": "cb2cacd5",
   "metadata": {},
   "source": [
    "While the post length for machine learning posts is observed to also be positively-skewed (like that of the distribution for statistics posts), it has a considerably higher skew. Most of the machine learning posts have a word count of up to 1,000 and a few significantly longer posts with more than 5,000 words, in contrast with the statistics posts where the longest post max out at 3,500 words."
   ]
  },
  {
   "cell_type": "markdown",
   "id": "141a419a",
   "metadata": {},
   "source": [
    "#### Addressing problem statement with the scraped data"
   ]
  },
  {
   "cell_type": "markdown",
   "id": "42e9df97",
   "metadata": {},
   "source": [
    "From the earlier EDA efforts on statistics and machine learning subreddit posts, we observe the following:\n",
    "- Commonly used words are contextually related to the respective subreddit topics\n",
    "- Word count of posts belonging to the machine learning subreddit is relatively longer than that of the posts under the statistics subreddit\n",
    "\n",
    "Furthermore, the summary statistics shown at the beginning shows that the scraped posts used for this analysis have content which are generally upvoted by the respective communities, indicating relevancy and meaningfulness. Thus, the problem statement can be addressed with the text data collected."
   ]
  },
  {
   "cell_type": "markdown",
   "id": "71054f01",
   "metadata": {},
   "source": [
    "### c. Convert categorical labels of 'statistics' and 'machinelearning' into numerical labels"
   ]
  },
  {
   "cell_type": "code",
   "execution_count": 27,
   "id": "d6f09d72",
   "metadata": {},
   "outputs": [],
   "source": [
    "# convert the categorical labels of 'statistics' and 'machinelearning' into numerical labels\n",
    "# define mapping\n",
    "mapping = {'statistics': '0', 'machinelearning': '1'}\n",
    "\n",
    "# replace categorical labels\n",
    "subreddit_content['subreddit'] = subreddit_content['subreddit'].map(mapping)"
   ]
  },
  {
   "cell_type": "markdown",
   "id": "dda087eb",
   "metadata": {},
   "source": [
    "### d. Save df as new csv file"
   ]
  },
  {
   "cell_type": "code",
   "execution_count": 28,
   "id": "7b76268e",
   "metadata": {},
   "outputs": [],
   "source": [
    "subreddit_content.to_csv('../dataset/subreddit_content_final.csv', index = False)"
   ]
  },
  {
   "cell_type": "code",
   "execution_count": null,
   "id": "1c90bff2",
   "metadata": {},
   "outputs": [],
   "source": []
  }
 ],
 "metadata": {
  "kernelspec": {
   "display_name": "Python 3",
   "language": "python",
   "name": "python3"
  },
  "language_info": {
   "codemirror_mode": {
    "name": "ipython",
    "version": 3
   },
   "file_extension": ".py",
   "mimetype": "text/x-python",
   "name": "python",
   "nbconvert_exporter": "python",
   "pygments_lexer": "ipython3",
   "version": "3.8.8"
  }
 },
 "nbformat": 4,
 "nbformat_minor": 5
}
