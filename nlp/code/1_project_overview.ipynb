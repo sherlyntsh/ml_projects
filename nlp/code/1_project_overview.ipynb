{
 "cells": [
  {
   "cell_type": "markdown",
   "id": "302bbfb4",
   "metadata": {},
   "source": [
    "## 1. Project Overview"
   ]
  },
  {
   "cell_type": "markdown",
   "id": "ca37d560",
   "metadata": {},
   "source": [
    "### Background"
   ]
  },
  {
   "cell_type": "markdown",
   "id": "6d3d56b6",
   "metadata": {},
   "source": [
    "Reddit was first launched in 2005 as a social networking site based on a forum-style discussion structure. Communities (called subreddits) on Reddit are topic-based, where users can contribute to it through posts and interact with fellow users through comment threads. Users also participate in the community through voting  \"up\" or \"down\" on content posted by others, which increases the exposure for posts with more upvotes in the Reddit homepage and subreddit feeds and reduces the same for downvoted content [1]."
   ]
  },
  {
   "cell_type": "markdown",
   "id": "7ca75248",
   "metadata": {},
   "source": [
    "### Problem Statement"
   ]
  },
  {
   "cell_type": "markdown",
   "id": "81ab50d9",
   "metadata": {},
   "source": [
    "While Reddit is centered around users active participation with the respective communities, it also requires the help of moderators in ensuring the standard of content on the subreddits. The scope of work includes areas such as dispute settlement, implementation of ground rules and delete / edit content which is deemed unsuitable or irrelevant for the site. On this end, volunteers taking up the role of a moderator could chalk up to 466 hours of work daily which translates to about US$3.4 million worth of labour annually [2]. In the aspect of detecting irrelevant material, the development of an automated way to review the post content for its relevancy would help in reducing the workload on the moderators. \n",
    "\n",
    "Delving specifically into the topics of statistics and machine learning, these are two very closely related fields as they are often used alongside each other in data analysis and data science. They also share key commonalities such as:\n",
    "- Analyzing and extracting insights from data\n",
    "- Making inferences about population based on sample data\n",
    "- Utilizing probability distribution, likelihoods and statistical tests to quantify uncertainties and evaluate likelihood of different outcomes\n",
    "\n",
    "However, they differ in their area of focus where statistics is concentrated on inference, model assumptions and interpretability, while machine learning focuses on prediction, optimization and algorithm design.\n",
    "\n",
    "Thus, this project aims to apply Natural Language Processing (NLP) on the scraped text data and build a binary classification model to aid moderators in classifying new post content into the respective communities of statistics and machine learning more effectively by differentiating between the two fields."
   ]
  },
  {
   "cell_type": "markdown",
   "id": "4c383338",
   "metadata": {},
   "source": [
    "### Data Source"
   ]
  },
  {
   "cell_type": "markdown",
   "id": "90e17d9d",
   "metadata": {},
   "source": [
    "The two subreddits which this analysis would be scrapping content from are:\n",
    "- r/statistics (https://www.reddit.com/r/statistics/\n",
    "- r/MachineLearning (https://www.reddit.com/r/MachineLearning/)"
   ]
  },
  {
   "cell_type": "markdown",
   "id": "ef4797ba",
   "metadata": {},
   "source": [
    "### Model Evaluation Criteria"
   ]
  },
  {
   "cell_type": "markdown",
   "id": "4b7e271e",
   "metadata": {},
   "source": [
    "The model would be evaluated based on 2 metrics:\n",
    "1. Accuracy (ratio of true positives and true negatives to the sum of true positives, true negatives, false positives and false negatives); and\n",
    "2. Specificity (ratio of true negatives to sum of true negatives and false positives)\n",
    "\n",
    "The objective would be for the final selected model to:\n",
    "1. Achieve an accuracy of at least 0.85; and\n",
    "2. Attain a specificity of at least 50% higher than the baseline score"
   ]
  },
  {
   "cell_type": "markdown",
   "id": "62fedaf4",
   "metadata": {},
   "source": [
    "### References"
   ]
  },
  {
   "cell_type": "markdown",
   "id": "6ef177a8",
   "metadata": {},
   "source": [
    "[1] Michelle Martin, \"What is Reddit, and Should Your Brand Be Using It?\", Hootsuite, 28 November, https://blog.hootsuite.com/what-is-reddit/#:~:text=Reddit%20is%20a%20social%20network,or%20%E2%80%9Cdown%E2%80%9D%20the%20algorithm.\n",
    "\n",
    "[2] Chris Stokel-Walker, \"Reddit moderators do $3.4 million worth of unpaid work each year\", NewScientist, 24 June 2022, https://www.newscientist.com/article/2325828-reddit-moderators-do-3-4-million-worth-of-unpaid-work-each-year/#:~:text=The%20social%20news%20website%20relies,deemed%20unsuitable%20for%20the%20site."
   ]
  },
  {
   "cell_type": "code",
   "execution_count": null,
   "id": "63ad1ac6",
   "metadata": {},
   "outputs": [],
   "source": []
  }
 ],
 "metadata": {
  "kernelspec": {
   "display_name": "Python 3",
   "language": "python",
   "name": "python3"
  },
  "language_info": {
   "codemirror_mode": {
    "name": "ipython",
    "version": 3
   },
   "file_extension": ".py",
   "mimetype": "text/x-python",
   "name": "python",
   "nbconvert_exporter": "python",
   "pygments_lexer": "ipython3",
   "version": "3.8.8"
  }
 },
 "nbformat": 4,
 "nbformat_minor": 5
}
